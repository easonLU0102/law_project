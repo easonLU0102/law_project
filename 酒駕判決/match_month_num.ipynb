{
 "cells": [
  {
   "cell_type": "code",
   "execution_count": 1,
   "metadata": {},
   "outputs": [],
   "source": [
    "path = 'D:\\\\Google雲端硬碟\\\\NCKU\\\\法經\\\\法經報告\\\\procedure\\\\判決書\\\\'\n",
    "import glob\n",
    "files_path = glob.glob(path+'*/*.txt')"
   ]
  },
  {
   "cell_type": "code",
   "execution_count": 2,
   "metadata": {
    "scrolled": true
   },
   "outputs": [
    {
     "data": {
      "text/plain": [
       "28157"
      ]
     },
     "execution_count": 2,
     "metadata": {},
     "output_type": "execute_result"
    }
   ],
   "source": [
    "len(files_path)"
   ]
  },
  {
   "cell_type": "code",
   "execution_count": null,
   "metadata": {},
   "outputs": [],
   "source": [
    "import os\n",
    "court_folder = ['福建連江地方法院刑事','福建金門地方法院刑事','臺灣南投地方法院刑事','臺灣嘉義地方法院刑事','臺灣基隆地方法院刑事',\n",
    "                '臺灣士林地方法院刑事','臺灣宜蘭地方法院刑事','臺灣屏東地方法院刑事','臺灣彰化地方法院刑事','臺灣新北地方法院刑事',\n",
    "                '臺灣新竹地方法院刑事','臺灣桃園地方法院刑事','臺灣橋頭地方法院刑事','臺灣澎湖地方法院刑事','臺灣臺中地方法院刑事',\n",
    "                '臺灣臺北地方法院刑事','臺灣臺南地方法院刑事','臺灣臺東地方法院刑事','臺灣花蓮地方法院刑事','臺灣苗栗地方法院刑事',\n",
    "                '臺灣雲林地方法院刑事','臺灣高雄地方法院刑事']\n",
    "\n",
    "path_folder = 'D:/data/108終結案件'\n",
    "goal_path = 'D:/Google雲端硬碟/NCKU/法經/法經報告/procedure/原始終結案件.txt'\n",
    "none_case = []\n",
    "\n",
    "with open(goal_path,'w',encoding= 'ansi') as w: \n",
    "    w.writelines('')\n",
    "\n",
    "#依序每個判決書找出對應的終結案件\n",
    "for file in files_path:\n",
    "    file_name = file.split('\\\\')[-1]\n",
    "    file_date = file_name.split('_')[1]\n",
    "    file_month = file_date.split('-')[1]\n",
    "    for folder in os.listdir(path_folder): #upload10801\n",
    "        if file_month in  folder[-2:]:\n",
    "            month_folder = folder \n",
    "    path_month_folder = '/'.join( [path_folder, month_folder] )\n",
    "    file_court = file.split('\\\\')[-2]\n",
    "    for court in court_folder: #臺灣南投地方法院刑事\n",
    "        if file_court in court:\n",
    "            break\n",
    "    #define end_case_file name\n",
    "    path_court_folder = '/'.join([path_month_folder,court])\n",
    "    for i in os.listdir(path_court_folder):\n",
    "        if '刑事訴訟' in i :\n",
    "            end_case_file = i\n",
    "    path_end_case_file = '/'.join( [path_month_folder,court,end_case_file] )\n",
    "    with open(path_end_case_file,'r',encoding='ansi') as f:\n",
    "        txt = f.read()\n",
    "    #find target case\n",
    "    file_match = file_name.split('_')[-2] +'!'+file_name.split('_')[-1].split('.')[0] # 埔原交簡!96\n",
    "    txt_by_case = txt.split('#')\n",
    "    target_case = 'none exist' \n",
    "    #save\n",
    "    for case in txt_by_case:\n",
    "        if file_match in case:\n",
    "            target_case = case[2:]\n",
    "            with open(goal_path,'a',encoding= 'ansi') as a: \n",
    "                a.writelines(target_case)\n",
    "                a.writelines('#\\n')\n",
    "            break\n",
    "\n",
    "    #collect none exist case\n",
    "    if target_case == 'none exist':\n",
    "        none_case.append(file)\n",
    "        print(file)"
   ]
  },
  {
   "cell_type": "code",
   "execution_count": 24,
   "metadata": {},
   "outputs": [],
   "source": [
    "#沒有終結案件的判決書\n",
    "with open(r'D:\\Google雲端硬碟\\NCKU\\法經\\法經報告\\procedure\\沒有終結案件的判決書名單.txt','w',encoding='ansi') as f:\n",
    "    for path in none_case:\n",
    "        f.writelines(path+'\\n')"
   ]
  },
  {
   "cell_type": "code",
   "execution_count": 6,
   "metadata": {},
   "outputs": [
    {
     "data": {
      "text/plain": [
       "('嘉義_2019-01-04_嘉交簡_1666.txt',\n",
       " '01',\n",
       " 'upload10801',\n",
       " '嘉義',\n",
       " 'D:/data/108終結案件/upload10801/臺灣嘉義地方法院刑事',\n",
       " 'D:/data/108終結案件/upload10801/臺灣嘉義地方法院刑事/10801.CYDM.刑事訴訟.txt')"
      ]
     },
     "execution_count": 6,
     "metadata": {},
     "output_type": "execute_result"
    }
   ],
   "source": [
    "file_name, file_month ,month_folder ,file_court,path_court_folder,path_end_case_file"
   ]
  }
 ],
 "metadata": {
  "kernelspec": {
   "display_name": "Python 3",
   "language": "python",
   "name": "python3"
  },
  "language_info": {
   "codemirror_mode": {
    "name": "ipython",
    "version": 3
   },
   "file_extension": ".py",
   "mimetype": "text/x-python",
   "name": "python",
   "nbconvert_exporter": "python",
   "pygments_lexer": "ipython3",
   "version": "3.7.10"
  }
 },
 "nbformat": 4,
 "nbformat_minor": 4
}
