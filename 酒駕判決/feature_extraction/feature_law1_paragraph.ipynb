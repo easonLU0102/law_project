{
 "cells": [
  {
   "cell_type": "code",
   "execution_count": 73,
   "metadata": {},
   "outputs": [],
   "source": [
    "# 定義一個函數，用來測試正規表達式是否匹配文本\n",
    "def RegexMatchingTest(regex, input_text):\n",
    "    #將正規表達式轉換成pattern\n",
    "    pattern = re.compile(regex)\n",
    "    # pattern = re.compile(regex, flags=re.IGNORECASE)  #若要忽略大小寫，在編譯時加上flags=re.IGNORECASE\n",
    "    \n",
    "    # 帶入編譯後的pattern，來測試是否匹配\n",
    "    # 這裡也可以用match()、split()、findall()、sub()等其他函數來測試匹配\n",
    "    result = re.search(pattern, input_text)\n",
    "\n",
    "    if result:\n",
    "        # 匹配完的結果會儲存在group()的屬性中，我們可以把匹配的結果列印出來\n",
    "        print(\"Matched: %s\" % (result.group()))\n",
    "        \n",
    "        if result.lastindex is not None:\n",
    "            # group(0)代表整個字串，group(1)、group(2)...代表分組中，匹配的內容\n",
    "            for i in range(0, result.lastindex+1):\n",
    "                print(\"  group(%d): %s\" % (i, result.group(i)))\n",
    "    else:\n",
    "        print(\"Not matched.\")"
   ]
  },
  {
   "cell_type": "code",
   "execution_count": 1,
   "metadata": {},
   "outputs": [],
   "source": [
    "import glob\n",
    "path = 'D:/Google雲端硬碟/NCKU/法經/法經報告/procedure/判決書/'\n",
    "files = glob.glob(path+'*/*.txt')"
   ]
  },
  {
   "cell_type": "markdown",
   "metadata": {},
   "source": [
    "# 定位出法條段落\n",
    "選關鍵字 \\\n",
    "match多個的處理 \\\n",
    "存出法條段落 \\\n",
    "input法條段落 列出法條清單"
   ]
  },
  {
   "cell_type": "markdown",
   "metadata": {},
   "source": [
    "## 關鍵字出現次數"
   ]
  },
  {
   "cell_type": "markdown",
   "metadata": {},
   "source": [
    "files[0]  四、適用法律之依據：刑事訴訟法第449條第1項\n",
    "1         四、依刑事訴訟法第449 條第1 項前段\n",
    "2 刑事訴訟法第449 條第1 項前段\n",
    "40 五、依刑事訴訟法第449 條第1 項前段\n",
    "70 三、依刑事訴訟法第449 條第1 項前段\n",
    "4000 四、據上論斷，應依刑事訴訟法第四百四十九條第一項前段\n",
    "6000 據上論斷，應依刑事訴訟法第299 條第1 項前段\n",
    "\n"
   ]
  },
  {
   "cell_type": "markdown",
   "metadata": {},
   "source": [
    "## 找新的關鍵詞"
   ]
  },
  {
   "cell_type": "code",
   "execution_count": 89,
   "metadata": {},
   "outputs": [
    {
     "name": "stdout",
     "output_type": "stream",
     "text": [
      "Matched: 中    華    民    國   \n"
     ]
    }
   ],
   "source": [
    "\n",
    "file = files[40]\n",
    "with open(file,'r',encoding= 'utf-8-sig') as f:\n",
    "    txt =f.read()\n",
    "input_text = txt\n",
    "#regex = '(、)(綜上所述|據上論斷)(，)(應)(依)刑事訴訟法第'  \n",
    "regex = '中    華    民    國   '\n",
    "pattern = re.compile(regex)\n",
    "match= re.findall(pattern, input_text)\n",
    "result = re.search(pattern, input_text)\n",
    "RegexMatchingTest(regex, input_text)"
   ]
  },
  {
   "cell_type": "markdown",
   "metadata": {},
   "source": [
    "# 1. split 刑事訴訟 取最後一元素\n",
    "## issue: 大概有1萬4千件會抓到附錄後的那段"
   ]
  },
  {
   "cell_type": "code",
   "execution_count": 129,
   "metadata": {},
   "outputs": [
    {
     "name": "stdout",
     "output_type": "stream",
     "text": [
      "136 D:/Google雲端硬碟/NCKU/法經/法經報告/procedure/判決書\\高雄\\高雄_2019-08-27_交易_49.txt 26884 \n",
      "\n",
      "法第299 條第1 項前段、第300 條，道\n",
      "\n",
      "路交通管理處罰條例第86條第1 項，刑法第2 條第1 項前段、第\n",
      "\n",
      "185 條之3 第1 項第1 款、修正前第284 條第1 項前段、第47條\n",
      "\n",
      "第1 項、第62條前段、第41條第1 項前段、第8 項、第51條第5\n",
      "\n",
      "款，刑法施行法第1 條之1 ，判決如主文\n"
     ]
    }
   ],
   "source": [
    "want = txt.split('刑事訴訟')[-1].split('。')[0] \n",
    "print( len( want.replace(' ','')) ,file,i,'\\n')\n",
    "print( want )"
   ]
  },
  {
   "cell_type": "code",
   "execution_count": 150,
   "metadata": {
    "collapsed": true
   },
   "outputs": [
    {
     "name": "stdout",
     "output_type": "stream",
     "text": [
      "0\n",
      "2800\n",
      "5600\n",
      "8400\n",
      "11200\n",
      "14000\n",
      "16800\n",
      "19600\n",
      "22400\n",
      "25200\n"
     ]
    }
   ],
   "source": [
    "import re\n",
    "none = []\n",
    "no_sure = []\n",
    "short = []\n",
    "out = []\n",
    "for i,file in enumerate(files):\n",
    "    if i%2800 ==0:\n",
    "        print(i)\n",
    "    with open(file,'r',encoding= 'utf-8-sig') as f:\n",
    "        txt =f.read()\n",
    "    pure=txt.replace('\\n','')\n",
    "    point = pure.split('刑法施行法')[-1]\n",
    "    target = point.split('。')[0] \n",
    "    if '刑事訴訟法' not in pure:\n",
    "        none.append([i,file])\n",
    "    elif '法  官' not in point:\n",
    "        no_sure.append([i,file])\n",
    "    elif 10 < len(target) <200:\n",
    "        #two.append([i,file])\n",
    "        continue\n",
    "    elif len(target) <10:\n",
    "        short.append([i,file])\n",
    "    else:\n",
    "        out.append([i,file])"
   ]
  },
  {
   "cell_type": "code",
   "execution_count": 151,
   "metadata": {},
   "outputs": [
    {
     "data": {
      "text/plain": [
       "(1, 67, 0, 13637)"
      ]
     },
     "execution_count": 151,
     "metadata": {},
     "output_type": "execute_result"
    }
   ],
   "source": [
    "len(none) ,len(out),len(short),len(no_sure)"
   ]
  },
  {
   "cell_type": "code",
   "execution_count": null,
   "metadata": {},
   "outputs": [],
   "source": [
    "#過長的也有包含到我們要的法條區\n",
    "file =files[ out[1][0] ]\n",
    "for j in range(86):\n",
    "    file = files[ out[j][0] ]\n",
    "    with open(file,'r',encoding= 'utf-8-sig') as f:\n",
    "        txt =f.read()\n",
    "    pure=txt.replace('\\n','')\n",
    "    target = pure.split('刑事訴訟')[-1].split('。')[0] \n",
    "    print(target,'\\n')\n",
    "    print('----------------------------------------------------------------')"
   ]
  },
  {
   "cell_type": "code",
   "execution_count": null,
   "metadata": {},
   "outputs": [],
   "source": [
    "#過長的也有包含到我們要的法條區\n",
    "file =files[ no_sure[1][0] ]\n",
    "for j in range(20):\n",
    "    file = files[ no_sure[j][0] ]\n",
    "    with open(file,'r',encoding= 'utf-8-sig') as f:\n",
    "        txt =f.read()\n",
    "    pure=txt.replace('\\n','')\n",
    "    point = pure.split('刑事訴訟法')[-1]\n",
    "    target = point.split('。')[0] \n",
    "    print(point,'\\n')\n",
    "    print('----------------------------------------------------------------')"
   ]
  },
  {
   "cell_type": "code",
   "execution_count": 173,
   "metadata": {
    "scrolled": true
   },
   "outputs": [
    {
     "name": "stdout",
     "output_type": "stream",
     "text": [
      "第449 條第2項、第454條第2項。  刑法第185 條之3 第1 項第1 款、第47條第1 項、第41條第    1 項前段。  刑法施行法第1 條之1 第1 項。四、如不服本判決，得於判決書送達之翌日起10日內，以書狀敘    述理由，向本院提出上訴（須附繕本）。本案經檢察官黃淑美提起公訴，由本院改依簡易判決處刑。中    華    民    國   108    年    8     月    20    日                  埔里簡易庭  法  官  葉峻石以上正本證明與原本無異。如不服本判決應於判決送達後十日內向本院提出上訴狀，（均須按他造當事人之數附繕本）「切勿逕送上級法院」。                              書記官  陳淑怡中    華    民    國   108    年    8     月    20    日附錄本案論罪科刑法條：中華民國刑法第185條之3　附件：臺灣南投地方檢察署檢察官起訴書                                     108年度偵字第2022號    被      告  楊銘洲  男  62歲（民國00年0月00日生）                        住南投縣○○鄉○○路000號                        國民身分證統一編號：Z000000000號上列被告因公共危險案件，已經偵查終結，認應提起公訴，茲將犯罪事實及證據並所犯法條分敘如下：        犯罪事實一、楊銘洲前因傷害致死案件，經臺灣高等法院臺中分院以99年    度上訴字第1987號判決判處有期徒刑8 年，嗣經上訴後，再    經最高法院以100 年度台上字第750 號判決駁回上訴後確定    ，經入監執行後，於民國107 年4 月26日縮刑期滿執行完畢    。詎猶不知警惕，於108 年4 月28日15、16時許，在南投縣    國姓鄉國姓國小旁某處食用雞酒及飲用鹿茸酒，酒畢，明知    吐氣所含酒精濃度達每公升0.25毫克以上者，已不得駕駛動    力交通工具，仍於同日20時50分許，在吐氣酒精濃度已逾上    開標準之情形下，騎乘屬於動力交通工具之車牌號碼000-00    0 號普通重型機車行駛於道路。嗣於同日21時30分許，行經    南投縣○○鎮○○路000 ○00號前，因騎乘機車未戴安全帽    為警攔檢稽查，並於同日22時12分許施以檢測，得知楊銘洲    吐氣酒精濃度為每公升1.01毫克，始悉上情。二、案經南投縣政府警察局草屯分局報告偵辦。        證據並所犯法條一、上揭犯罪事實，業據被告楊銘洲於偵查中坦承不諱，且有酒    精測定紀錄表、財團法人台灣電子檢驗中心呼氣酒精測試器    檢定合格證書、中華電信- 證號查詢機車駕駛人、車輛詳細    資料報表及南投縣政府警察局舉發違反道路交通管理事件通    知單各1 紙附卷可參，足徵被告自白與事實相符，是本件事    證明確，其犯嫌堪予認定。二、核被告所為，係犯刑法第185 條之3 第1 項第1 款之酒後駕    車罪。被告前受如犯罪事實欄所載之有期徒刑執行完畢，有    本署刑案資料查註紀錄表附卷可稽。其於有期徒刑執行完畢    後，5 年內故意再犯本件有期徒刑以上之罪，為累犯，請依    刑法第47條第1 項之規定，加重其刑。三、依\n"
     ]
    }
   ],
   "source": [
    "file =files[ no_sure[1][0] ]\n",
    "with open(file,'r',encoding= 'utf-8-sig') as f:\n",
    "        txt =f.read()\n",
    "pure=txt.replace('\\n','')\n",
    "point = pure.split('刑事訴訟法')[-1]\n",
    "target = point.split('。')[0] \n",
    "for k in pure.split('刑事訴訟法'):\n",
    "    if ('如不服本判決' in k) or ('書記官' in k):\n",
    "        print(k)"
   ]
  },
  {
   "cell_type": "markdown",
   "metadata": {},
   "source": [
    "# 3. split('刑事訴訟法'),找出條件判斷出法條區的元素"
   ]
  },
  {
   "cell_type": "code",
   "execution_count": 235,
   "metadata": {
    "collapsed": true
   },
   "outputs": [
    {
     "name": "stdout",
     "output_type": "stream",
     "text": [
      "0\n",
      "2800\n",
      "5600\n",
      "8400\n",
      "11200\n",
      "14000\n",
      "16800\n",
      "19600\n",
      "22400\n",
      "25200\n"
     ]
    }
   ],
   "source": [
    "two = []\n",
    "one = []\n",
    "none=[]\n",
    "other = []\n",
    "for i,file in enumerate(files):\n",
    "    if i%2800 ==0:\n",
    "        print(i)\n",
    "    with open(file,'r',encoding= 'utf-8-sig') as f:\n",
    "        txt =f.read()\n",
    "    pure=txt.replace('\\n','')\n",
    "    point = pure.split('刑事訴訟法第')\n",
    "    count = 0\n",
    "    for k in point:\n",
    "        if ('如不服本判決' in k) or ('書記官' in k): #有15497件符合 存至s1\n",
    "            if ('據上論斷' not in k) and ('綜上所述' not in k) and ('字第' not in k):\n",
    "                count = count +1 #有10件符合兩個元素, 存至s2\n",
    "    if count == 1:\n",
    "        one.append([i,file]) #23961預期是對的\n",
    "    elif count == 0: #43件是否人工?\n",
    "        none.append([i,file])\n",
    "    elif count ==2:\n",
    "        two.append([i,file])\n",
    "    else: \n",
    "        other.append([i,file]) #0件\n"
   ]
  },
  {
   "cell_type": "code",
   "execution_count": 231,
   "metadata": {},
   "outputs": [
    {
     "data": {
      "text/plain": [
       "(15497, 11378, 10, 0)"
      ]
     },
     "execution_count": 231,
     "metadata": {},
     "output_type": "execute_result"
    }
   ],
   "source": [
    "len(one),len(none),len(two),len(other)"
   ]
  },
  {
   "cell_type": "code",
   "execution_count": 238,
   "metadata": {
    "scrolled": true
   },
   "outputs": [
    {
     "data": {
      "text/plain": [
       "(15497, 10, 11378)"
      ]
     },
     "execution_count": 238,
     "metadata": {},
     "output_type": "execute_result"
    }
   ],
   "source": [
    "len(s1),len(s2),len(s3)"
   ]
  },
  {
   "cell_type": "markdown",
   "metadata": {},
   "source": [
    "# -----------------------------------------------\n",
    "確認txt裡有幾個'刑法施行法第' \\\n",
    "len(none),len(one),len(two),len(muti) = (2686, 23987, 205, 7) \\\n",
    "split'刑法施行法第' [-2] \\\n",
    "split'刑事訴訟法第'[-1]  \\\n",
    "\n",
    "幾個'逕以簡易判決處刑如主文' \\\n",
    "len(none4),len(one4),len(two4),len(muti4) = (8766, 18119, 0, 0)\n"
   ]
  },
  {
   "cell_type": "code",
   "execution_count": 291,
   "metadata": {
    "collapsed": true
   },
   "outputs": [
    {
     "name": "stdout",
     "output_type": "stream",
     "text": [
      "0\n",
      "2700\n",
      "5400\n",
      "8100\n",
      "10800\n",
      "13500\n",
      "16200\n",
      "18900\n",
      "21600\n",
      "24300\n"
     ]
    }
   ],
   "source": [
    "#刑法施行法出現次數\n",
    "import re\n",
    "none = []\n",
    "one= []\n",
    "two =[]\n",
    "muti = []\n",
    "for i,file in enumerate(files):\n",
    "    if i%2700 ==0:\n",
    "        print(i)\n",
    "    with open(file,'r',encoding= 'utf-8-sig') as f:\n",
    "        txt =f.read()\n",
    "    pure = txt.replace(' ','').replace('\\n','')\n",
    "    pure = '#'.join( pure.split('中華民國')[:-1] ) ### 用此string ###############################\n",
    "    input_text = pure\n",
    "    regex = '刑法施行法第'  \n",
    "    pattern = re.compile(regex)\n",
    "    match= re.findall(pattern, input_text)\n",
    "    if len(match) ==1:\n",
    "        one.append([i,file])\n",
    "    elif len(match) == 2:\n",
    "        two.append([i,file])\n",
    "    elif len(match) >2:\n",
    "        muti.append([i,file])\n",
    "    elif match == []:\n",
    "        none.append([i,file])\n",
    "    "
   ]
  },
  {
   "cell_type": "code",
   "execution_count": 292,
   "metadata": {
    "scrolled": true
   },
   "outputs": [
    {
     "data": {
      "text/plain": [
       "(2686, 24023, 169, 7)"
      ]
     },
     "execution_count": 292,
     "metadata": {},
     "output_type": "execute_result"
    }
   ],
   "source": [
    "len(none),len(one),len(two),len(muti)"
   ]
  },
  {
   "cell_type": "code",
   "execution_count": 279,
   "metadata": {
    "collapsed": true
   },
   "outputs": [
    {
     "name": "stdout",
     "output_type": "stream",
     "text": [
      "0\n",
      "2800\n",
      "5600\n",
      "8400\n",
      "11200\n",
      "14000\n",
      "16800\n",
      "19600\n",
      "22400\n",
      "25200\n"
     ]
    }
   ],
   "source": [
    "#刑法施行法出現次數\n",
    "import re\n",
    "none4 = []\n",
    "one4= []\n",
    "two4 =[]\n",
    "muti4 = []\n",
    "for i,file in enumerate(files):\n",
    "    if i%2700 ==0:\n",
    "        print(i)\n",
    "    with open(file,'r',encoding= 'utf-8-sig') as f:\n",
    "        txt =f.read()\n",
    "    pure= txt.replace(' ','').replace('\\n','')\n",
    "    input_text = pure\n",
    "    regex = '逕以簡易判決處刑如主文'  \n",
    "    pattern = re.compile(regex)\n",
    "    match= re.findall(pattern, input_text)\n",
    "    if len(match) ==1:\n",
    "        one4.append([i,file])\n",
    "    elif len(match) == 2:\n",
    "        two4.append([i,file])\n",
    "    elif len(match) >2:\n",
    "        muti4.append([i,file])\n",
    "    elif match == []:\n",
    "        none4.append([i,file])"
   ]
  },
  {
   "cell_type": "code",
   "execution_count": 280,
   "metadata": {},
   "outputs": [
    {
     "data": {
      "text/plain": [
       "(8766, 18119, 0, 0)"
      ]
     },
     "execution_count": 280,
     "metadata": {},
     "output_type": "execute_result"
    }
   ],
   "source": [
    "len(none4),len(one4),len(two4),len(muti4)"
   ]
  },
  {
   "cell_type": "code",
   "execution_count": 407,
   "metadata": {},
   "outputs": [
    {
     "data": {
      "text/plain": [
       "'ewfeg\\n'"
      ]
     },
     "execution_count": 407,
     "metadata": {},
     "output_type": "execute_result"
    }
   ],
   "source": [
    "with open(file_path,'a',encoding='utf-8-sig') as f:\n",
    "        f.writelines(file + '\\n' + temp +'\\n' + '#\\n')"
   ]
  },
  {
   "cell_type": "code",
   "execution_count": 413,
   "metadata": {},
   "outputs": [
    {
     "data": {
      "text/plain": [
       "'file\\n law\\n#\\nfile\\n law\\n#\\n'"
      ]
     },
     "execution_count": 413,
     "metadata": {},
     "output_type": "execute_result"
    }
   ],
   "source": [
    "#a = ''\n",
    "#b = 'file\\n law\\n#\\n'\n",
    "a= a + b\n",
    "a"
   ]
  },
  {
   "cell_type": "markdown",
   "metadata": {},
   "source": [
    "# main/ --------------------------------------------------------------------"
   ]
  },
  {
   "cell_type": "code",
   "execution_count": null,
   "metadata": {},
   "outputs": [],
   "source": [
    "import glob\n",
    "path = 'D:/Google雲端硬碟/NCKU/法經/法經報告/procedure/判決書/'\n",
    "files = glob.glob(path+'*/*.txt')"
   ]
  },
  {
   "cell_type": "code",
   "execution_count": 415,
   "metadata": {
    "collapsed": true
   },
   "outputs": [
    {
     "name": "stdout",
     "output_type": "stream",
     "text": [
      "0\n",
      "2700\n",
      "5400\n",
      "8100\n",
      "10800\n",
      "13500\n",
      "16200\n",
      "18900\n",
      "21600\n",
      "24300\n"
     ]
    }
   ],
   "source": [
    "file_path = 'D:/Google雲端硬碟/NCKU/法經/法經報告/procedure/econ_law_code/feature_trial/law1_26885-9.txt'\n",
    "other = []\n",
    "all_txt = ''\n",
    "for i,file in enumerate(files):\n",
    "    case,law = '',''\n",
    "    if i%2700 ==0:\n",
    "        print(i)\n",
    "    with open(file,'r',encoding= 'utf-8-sig') as f:\n",
    "        txt =f.read()\n",
    "    pure=txt.replace('\\n','').replace(' ','')\n",
    "    if '逕以簡易判決處刑如主文' in pure:\n",
    "        law = '刑事訴訟法第' + pure.split('逕以簡易判決處刑如主文')[0].split('刑事訴訟法第')[-1]\n",
    "    elif len( pure.split('刑法施行法第') ) ==2: #只有出現一次\n",
    "        law = '刑事訴訟法第' + pure.split('刑法施行法第')[0].split('刑事訴訟法第')[-1]\n",
    "    elif len( pure.split('判決處如主文') ) ==2: #逕以簡易判決處如主文\n",
    "        law = '刑事訴訟法第' + pure.split('判決處如主文')[0].split('刑事訴訟法第')[-1]\n",
    "    elif len( pure.split('判決如主文') ) ==2:\n",
    "        law = '刑事訴訟法第' + pure.split('判決如主文')[0].split('刑事訴訟法第')[-1]\n",
    "    elif len( pure.split('處刑如主文') ) ==2: \n",
    "        law = '刑事訴訟法第' + pure.split('處刑如主文')[0].split('刑事訴訟法第')[-1]\n",
    "    elif len( pure.split('判決判處如主文') ) ==2: \n",
    "        law = '刑事訴訟法第' + pure.split('判決判處如主文')[0].split('刑事訴訟法第')[-1]\n",
    "    elif len( pure.split('適用之法條') ) ==2: \n",
    "        law = pure.split('適用之法條')[1].split('。')[0] + '。'\n",
    "    elif len( pure.split('適用之法律') ) ==2: \n",
    "        law = pure.split('適用之法律')[1].split('。')[0] + '。'\n",
    "    elif len( pure.split('（依刑事判決精簡') ) ==2: \n",
    "        law = '刑事訴訟法第' + pure.split('（依刑事判決精簡')[0].split('刑事訴訟法第')[-1]\n",
    "    else: \n",
    "        other.append([i,file])\n",
    "        continue\n",
    "    case = file + '\\n' + law + '\\n' + '#\\n'\n",
    "    all_txt = all_txt + case\n",
    "with open(file_path,'w',encoding='utf-8-sig') as f:\n",
    "        f.writelines(all_txt)"
   ]
  },
  {
   "cell_type": "code",
   "execution_count": 416,
   "metadata": {},
   "outputs": [],
   "source": [
    "other_path = 'D:/Google雲端硬碟/NCKU/法經/法經報告/procedure/econ_law_code/feature_trial/law1_-9.txt'\n",
    "txt = ''\n",
    "for i in other:\n",
    "    txt = txt + i[1] + '\\n#\\n' \n",
    "with open(other_path,'w',encoding='utf-8-sig') as f:\n",
    "        f.writelines(txt)"
   ]
  },
  {
   "cell_type": "markdown",
   "metadata": {},
   "source": [
    "# /main ------------------------------------------------------------------"
   ]
  },
  {
   "cell_type": "code",
   "execution_count": 401,
   "metadata": {
    "collapsed": true
   },
   "outputs": [
    {
     "name": "stdout",
     "output_type": "stream",
     "text": [
      "0\n",
      "2700\n",
      "5400\n",
      "8100\n",
      "10800\n",
      "13500\n",
      "16200\n",
      "18900\n",
      "21600\n",
      "24300\n"
     ]
    }
   ],
   "source": [
    "other=[]\n",
    "m1 = []\n",
    "m2 = []\n",
    "m3 = []\n",
    "m4 = []\n",
    "m5 = []\n",
    "m6 = []\n",
    "m7 = []\n",
    "m8 = []\n",
    "m9 = []\n",
    "for i,file in enumerate(files):\n",
    "    if i%2700 ==0:\n",
    "        print(i)\n",
    "    with open(file,'r',encoding= 'utf-8-sig') as f:\n",
    "        txt =f.read()\n",
    "    pure=txt.replace('\\n','').replace(' ','')\n",
    "    #pure = '#'.join( pure.split('中華民國')[:-1] )\n",
    "    if '逕以簡易判決處刑如主文' in pure:\n",
    "        #law = '刑事訴訟法第' + pure.split('逕以簡易判決處刑如主文')[0].split('刑事訴訟法第')[-1]\n",
    "        m1.append([i,file])\n",
    "    elif len( pure.split('刑法施行法第') ) ==2: #只有出現一次\n",
    "        #law = '刑事訴訟法第' + pure.split('刑法施行法第')[0].split('刑事訴訟法第')[-1]\n",
    "        m2.append([i,file])\n",
    "    elif len( pure.split('判決處如主文') ) ==2: #逕以簡易判決處如主文\n",
    "        #law = '刑事訴訟法第' + pure.split('判決處如主文')[0].split('刑事訴訟法第')[-1]\n",
    "        m3.append([i,file])\n",
    "    elif len( pure.split('判決如主文') ) ==2:\n",
    "        #law = '刑事訴訟法第' + pure.split('判決如主文')[0].split('刑事訴訟法第')[-1]\n",
    "        m4.append([i,file])\n",
    "    elif len( pure.split('處刑如主文') ) ==2: \n",
    "        #law = '刑事訴訟法第' + pure.split('處刑如主文')[0].split('刑事訴訟法第')[-1]\n",
    "        m5.append([i,file])\n",
    "    elif len( pure.split('判決判處如主文') ) ==2: \n",
    "        #law = '刑事訴訟法第' + pure.split('判決判處如主文')[0].split('刑事訴訟法第')[-1]\n",
    "        m6.append([i,file])\n",
    "    elif len( pure.split('適用之法條') ) ==2: \n",
    "        #law = pure.split('適用之法條')[1].split('。')[0] + '。'\n",
    "        m7.append([i,file])\n",
    "    elif len( pure.split('適用之法律') ) ==2: \n",
    "        #law = pure.split('適用之法律')[1].split('。')[0] + '。'\n",
    "        m8.append([i,file])\n",
    "    elif len( pure.split('（依刑事判決精簡') ) ==2: \n",
    "        #law = pure.split('（依刑事判決精簡')[0].split('刑事訴訟法第')[-1]\n",
    "        m9.append([i,file])\n",
    "    else: \n",
    "        other.append([i,file])"
   ]
  },
  {
   "cell_type": "code",
   "execution_count": 402,
   "metadata": {},
   "outputs": [
    {
     "name": "stdout",
     "output_type": "stream",
     "text": [
      "18119,7829,298,345,2,83,145,41,14,9,"
     ]
    }
   ],
   "source": [
    "a= [m1,m2,m3,m4,m5,m6,m7,m8,m9,other]\n",
    "for i in a:\n",
    "    print( len(i) ,end=',')"
   ]
  },
  {
   "cell_type": "code",
   "execution_count": null,
   "metadata": {},
   "outputs": [],
   "source": [
    "for j in range(len(other)):\n",
    "    file = files[ other[j][0] ]\n",
    "    with open(file,'r',encoding= 'utf-8-sig') as f:\n",
    "        txt =f.read()\n",
    "    pure=txt.replace('\\n','').replace(' ','')\n",
    "    #pure = '#'.join( pure.split('中華民國')[:-1] )\n",
    "    law = pure.split('刑事訴訟法第') #.split('處刑如主文')[0]\n",
    "    '''\n",
    "    for k,lec in enumerate( law ):\n",
    "        if '應適用之法條' in lec:\n",
    "            a = k\n",
    "            print( lec )\n",
    "            break\n",
    "    print('****************\\n' ,law[a+1] )\n",
    "    '''\n",
    "    print( '\\n#####'.join(law[0:]) )\n",
    "    print('-----------------------------------------------------------------------------------------------------------------')"
   ]
  },
  {
   "cell_type": "markdown",
   "metadata": {},
   "source": [
    "# test "
   ]
  },
  {
   "cell_type": "code",
   "execution_count": 249,
   "metadata": {
    "collapsed": true
   },
   "outputs": [
    {
     "name": "stdout",
     "output_type": "stream",
     "text": [
      "0\n",
      "2800\n",
      "5600\n",
      "8400\n",
      "11200\n",
      "14000\n",
      "16800\n",
      "19600\n",
      "22400\n",
      "25200\n"
     ]
    }
   ],
   "source": [
    "two2 = []\n",
    "one2 = []\n",
    "none2=[]\n",
    "other2 = []\n",
    "for i,file in enumerate(files):\n",
    "    if i%2800 ==0:\n",
    "        print(i)\n",
    "    with open(file,'r',encoding= 'utf-8-sig') as f:\n",
    "        txt =f.read()\n",
    "    pure=txt.replace('\\n','')\n",
    "    point = pure.split('刑事訴訟法第')\n",
    "    count2 = 0\n",
    "    for k in point:\n",
    "        if ('如不服本判決' in k) or ('書記官' in k): #有24104件符合 存至s1\n",
    "            if ('據上論斷' not in k) and ('綜上所述' not in k) :\n",
    "                count2 = count2 +1 \n",
    "    if count2 == 1:\n",
    "        one2.append([i,file])\n",
    "    elif count2 == 0: #50件是否人工?\n",
    "        none2.append([i,file])\n",
    "    elif count2 ==2: #有2729件符合兩個元素, 存至s2\n",
    "        two2.append([i,file])\n",
    "    else: \n",
    "        other2.append([i,file]) #2件\n"
   ]
  },
  {
   "cell_type": "code",
   "execution_count": 250,
   "metadata": {},
   "outputs": [
    {
     "data": {
      "text/plain": [
       "(24104, 50, 2729, 2)"
      ]
     },
     "execution_count": 250,
     "metadata": {},
     "output_type": "execute_result"
    }
   ],
   "source": [
    "len(one2),len(none2),len(two2),len(other2)"
   ]
  },
  {
   "cell_type": "code",
   "execution_count": 251,
   "metadata": {},
   "outputs": [],
   "source": [
    "s1 = one2\n",
    "s2 = two2\n",
    "s3 = none2\n",
    "s4 = other2"
   ]
  },
  {
   "cell_type": "markdown",
   "metadata": {},
   "source": [
    "## test.s1處理"
   ]
  },
  {
   "cell_type": "code",
   "execution_count": null,
   "metadata": {},
   "outputs": [],
   "source": [
    "for j in range(8000,8100):\n",
    "    file = files[ s1[j][0] ]\n",
    "    with open(file,'r',encoding= 'utf-8-sig') as f:\n",
    "        txt =f.read()\n",
    "    pure=txt.replace('\\n','')\n",
    "    point = pure.split('刑事訴訟法第')\n",
    "    for k in point:\n",
    "        if ('如不服本判決' in k) or ('書記官' in k):\n",
    "            if ('據上論斷' not in k) and ('綜上所述' not in k):\n",
    "                temp = '刑事訴訟法第' + k.split('。')[0].split('；')[0].split('逕')[0]\n",
    "                print(file)\n",
    "                print(temp)\n",
    "    print('#')"
   ]
  },
  {
   "cell_type": "markdown",
   "metadata": {},
   "source": [
    "# 存出s1"
   ]
  },
  {
   "cell_type": "code",
   "execution_count": 269,
   "metadata": {},
   "outputs": [],
   "source": [
    "file_path= 'D:/Google雲端硬碟/NCKU/法經/法經報告/procedure/econ_law_code/feature_trial/law_m1.txt'\n",
    "for j in s1:\n",
    "    file = j[1]\n",
    "    with open(file,'r',encoding= 'utf-8-sig') as f:\n",
    "        txt =f.read()\n",
    "    pure=txt.replace('\\n','')\n",
    "    point = pure.split('刑事訴訟法第')\n",
    "    for k in point:\n",
    "        if ('如不服本判決' in k) or ('書記官' in k):\n",
    "            if ('據上論斷' not in k) and ('綜上所述' not in k):\n",
    "                temp = '刑事訴訟法第' + k.split('。')[0].split('；')[0].split('逕')[0]\n",
    "                with open(file_path,'a',encoding='utf-8-sig') as f:\n",
    "                    f.writelines(file + '\\n' + temp +'\\n' + '#\\n')\n",
    "                #print(file)\n",
    "                #print(temp)\n",
    "                break\n",
    "    #print('#')"
   ]
  },
  {
   "cell_type": "markdown",
   "metadata": {},
   "source": [
    "# main.s2"
   ]
  },
  {
   "cell_type": "code",
   "execution_count": null,
   "metadata": {},
   "outputs": [],
   "source": [
    "for j in range(1000,1050):\n",
    "    file = files[ s2[j][0] ]\n",
    "    with open(file,'r',encoding= 'utf-8-sig') as f:\n",
    "        txt =f.read()\n",
    "    pure=txt.replace('\\n','')\n",
    "    point = pure.split('刑事訴訟法第')\n",
    "    for k in point:\n",
    "        if ('如不服本判決' in k) or ('書記官' in k):\n",
    "            if ('據上論斷' not in k) and ('綜上所述' not in k):\n",
    "                temp = '刑事訴訟法第' + k#.split('。')[0].split('；')[0].split('逕')[0]\n",
    "                #print(file)\n",
    "                print(temp,'\\n-----------------------------------------\\n')\n",
    "    print('###################################')"
   ]
  },
  {
   "cell_type": "markdown",
   "metadata": {},
   "source": [
    "# 中華民國 的次數"
   ]
  },
  {
   "cell_type": "code",
   "execution_count": 226,
   "metadata": {},
   "outputs": [
    {
     "name": "stdout",
     "output_type": "stream",
     "text": [
      "0\n",
      "2800\n",
      "5600\n",
      "8400\n",
      "11200\n",
      "14000\n",
      "16800\n",
      "19600\n",
      "22400\n",
      "25200\n"
     ]
    }
   ],
   "source": [
    "#刑事訴訟法出現次數\n",
    "import re\n",
    "three = []\n",
    "two =[]\n",
    "four = []\n",
    "other = []\n",
    "one =[]\n",
    "for i,file in enumerate(files):\n",
    "    if i%2800 ==0:\n",
    "        print(i)\n",
    "    with open(file,'r',encoding= 'utf-8-sig') as f:\n",
    "        txt =f.read()\n",
    "    input_text = txt.replace(' ','').replace('\\u3000','')\n",
    "    regex = '中華民國'  \n",
    "    pattern = re.compile(regex)\n",
    "    match= re.findall(pattern, input_text)\n",
    "    if len(match) == 2:\n",
    "        two.append([i,file])\n",
    "    elif len(match) == 3 :\n",
    "        three.append([i,file])\n",
    "    elif len(match) == 4:\n",
    "        four.append([i,file])\n",
    "    elif len(match) == 1:\n",
    "        one.append([i,file])\n",
    "    else:\n",
    "        other.append([i,file])"
   ]
  },
  {
   "cell_type": "code",
   "execution_count": 227,
   "metadata": {},
   "outputs": [
    {
     "data": {
      "text/plain": [
       "(2940, 10634, 4640, 8668, 3)"
      ]
     },
     "execution_count": 227,
     "metadata": {},
     "output_type": "execute_result"
    }
   ],
   "source": [
    "len(two),len(three),len(four),len(other),len(one)"
   ]
  },
  {
   "cell_type": "code",
   "execution_count": null,
   "metadata": {},
   "outputs": [],
   "source": [
    "for j in range(4000,4020):\n",
    "    file = files[ other[j][0] ]\n",
    "    with open(file,'r',encoding= 'utf-8-sig') as f:\n",
    "        txt =f.read()\n",
    "    pure=txt.replace('\\n','')\n",
    "    point = pure.split('刑事訴訟法第')\n",
    "    for k in point:\n",
    "        if ('如不服本判決' in k) or ('書記官' in k):\n",
    "            print(k,'\\n','****************************************')\n",
    "    print('----------------------------------------------------------------------------------------------------')"
   ]
  }
 ],
 "metadata": {
  "kernelspec": {
   "display_name": "Python 3",
   "language": "python",
   "name": "python3"
  },
  "language_info": {
   "codemirror_mode": {
    "name": "ipython",
    "version": 3
   },
   "file_extension": ".py",
   "mimetype": "text/x-python",
   "name": "python",
   "nbconvert_exporter": "python",
   "pygments_lexer": "ipython3",
   "version": "3.7.10"
  }
 },
 "nbformat": 4,
 "nbformat_minor": 4
}
