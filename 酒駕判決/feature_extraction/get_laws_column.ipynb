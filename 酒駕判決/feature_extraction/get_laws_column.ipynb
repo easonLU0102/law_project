{
 "cells": [
  {
   "cell_type": "code",
   "execution_count": 2,
   "metadata": {},
   "outputs": [],
   "source": [
    "source = 'D:/Google雲端硬碟/NCKU/法經/法經報告/procedure/econ_law_code/feature_trial/law1_26885-9.txt'\n",
    "with open(source,'r',encoding='utf-8-sig') as f:\n",
    "    txt = f.read()"
   ]
  },
  {
   "cell_type": "code",
   "execution_count": 18,
   "metadata": {},
   "outputs": [
    {
     "data": {
      "text/plain": [
       "('刑事訴訟法第299條第1項前段、第300條，道路交通管理處罰條例第86條第1項，刑法第2條第1項前段、第185條之3第1項第1款、修正前第284條第1項前段、第47條第1項、第62條前段、第41條第1項前段、第8項、第51條第5款，',\n",
       " ['第299條第1項前段、第300條，道路交通管理處罰條例第86條第1項，刑法第2條第1項前段、第185條之3第1項第1款、修正前第284條第1項前段、第47條第1項、第62條前段、第41條第1項前段、第8項、第51條第5款'])"
      ]
     },
     "execution_count": 18,
     "metadata": {},
     "output_type": "execute_result"
    }
   ],
   "source": [
    "import re\n",
    "input_text = law_part\n",
    "regex = '第.*[條款]'\n",
    "pattern = re.compile(regex)\n",
    "match = re.findall(pattern, input_text)\n",
    "result = re.finditer(pattern, input_text)\n",
    "law_part,match"
   ]
  },
  {
   "cell_type": "markdown",
   "metadata": {},
   "source": [
    "## old--------------------------------------"
   ]
  },
  {
   "cell_type": "code",
   "execution_count": 3,
   "metadata": {},
   "outputs": [],
   "source": [
    "import re\n",
    "tran_num = {u\"零\" : \"0\",u\"一\" : \"1\",u\"二\" : \"2\",u\"三\" : \"3\",u\"四\" : \"4\",u\"五\" : \"5\",u\"六\" : \"6\",u\"七\" : \"7\",u\"八\" : \"8\",\n",
    "    u\"九\" : \"9\",'百':'','十':'','０':'0' ,'１':'1','２':'2','３':'3','４':'4','５':'5','６':'6','７':'7','８':'8','９':'9'}\n",
    "\n",
    "law_name = ['刑事訴訟法','刑法','道路交通管理處罰條例','兒童及少年福利與權益保障法','陸海空軍刑法','道路交通安全規則']\n",
    "skip_name = ['大法官','同法','故依','於5年內','行法']\n",
    "\n",
    "filenames =[]\n",
    "laws = []\n",
    "\n",
    "for case in cases:\n",
    "    filename,case_law ='',[]\n",
    "    path = case.split('\\n')[0]\n",
    "    filename = path.split('\\\\')[-1]\n",
    "    law_part = case.split('\\n')[1]\n",
    "    law_part = law_part.replace('：','')\n",
    "    # 改成阿拉伯數字/\n",
    "    for ele in tran_num:\n",
    "        law_part = law_part.replace(ele ,tran_num[ele])\n",
    "    # /改成阿拉伯數字\n",
    "    kind= law_part.split('，') \n",
    "    for sen in kind: #每一句即一種法\n",
    "        if sen == '':\n",
    "            continue\n",
    "        if sen.split('第')[0] !='': #這句有法名，則更新名字 \n",
    "            name = sen.split('第')[0]\n",
    "        # 修正name/\n",
    "        for la in law_name:\n",
    "            if la in name:\n",
    "                name = la + name.split(la)[-1]\n",
    "                break\n",
    "        if '修正前' in name:\n",
    "            name = '刑法'\n",
    "        onoff = ''\n",
    "        for sk in skip_name:\n",
    "            if sk in name:\n",
    "                onoff = 'skip'\n",
    "                break\n",
    "        if onoff == 'skip':\n",
    "            break\n",
    "        # /修正name    \n",
    "        regex = \"第\\d+條之\\d第\\d項第\\d款|第\\d+條之\\d第\\d項|第\\d+條第\\d項|第\\d+條第\\d款|第\\d+條|第\\d項\"\n",
    "        pattern = re.compile(regex)\n",
    "        res = re.findall(pattern,sen)\n",
    "        for j in res: #j為每一則法條\n",
    "            r = name + j\n",
    "            pattern = re.compile('法\\d')\n",
    "            res = re.findall(pattern,r)\n",
    "            if res != []:\n",
    "                r = '法第'.join( name.split('法') ) + j\n",
    "            case_law.append(r)\n",
    "    filenames.append( filename )\n",
    "    laws.append(case_law)"
   ]
  },
  {
   "cell_type": "code",
   "execution_count": 33,
   "metadata": {},
   "outputs": [
    {
     "data": {
      "text/plain": [
       "(26876, 26876)"
      ]
     },
     "execution_count": 33,
     "metadata": {},
     "output_type": "execute_result"
    }
   ],
   "source": [
    "len(filenames),len(laws)"
   ]
  },
  {
   "cell_type": "markdown",
   "metadata": {},
   "source": [
    "# main -------------------------------------------------"
   ]
  },
  {
   "cell_type": "code",
   "execution_count": 5,
   "metadata": {},
   "outputs": [
    {
     "data": {
      "text/plain": [
       "26876"
      ]
     },
     "execution_count": 5,
     "metadata": {},
     "output_type": "execute_result"
    }
   ],
   "source": [
    "source = 'D:/Google雲端硬碟/NCKU/法經/法經報告/procedure/econ_law_code/feature_trial/law1_26885-9.txt'\n",
    "with open(source,'r',encoding='utf-8-sig') as f:\n",
    "    txt = f.read()\n",
    "cases = txt.split('\\n#\\n')[:-1]\n",
    "len(cases)"
   ]
  },
  {
   "cell_type": "code",
   "execution_count": 71,
   "metadata": {},
   "outputs": [],
   "source": [
    "import re\n",
    "tran_num = {u\"零\" : \"0\",u\"一\" : \"1\",u\"二\" : \"2\",u\"三\" : \"3\",u\"四\" : \"4\",u\"五\" : \"5\",u\"六\" : \"6\",u\"七\" : \"7\",u\"八\" : \"8\",\n",
    "    u\"九\" : \"9\",'百':'','十':'','０':'0' ,'１':'1','２':'2','３':'3','４':'4','５':'5','６':'6','７':'7','８':'8','９':'9'}\n",
    "\n",
    "law_name = ['刑事訴訟法','刑法','道路交通管理處罰條例','兒童及少年福利與權益保障法','陸海空軍刑法','道路交通安全規則',\n",
    "           '槍砲彈藥刀械管制條例' ]\n",
    "#skip_name = ['大法官','同法','故依','於5年內','行法']\n",
    "\n",
    "filenames =[]\n",
    "laws = []\n",
    "\n",
    "for case in cases:\n",
    "    filename,case_law ='',[]\n",
    "    path = case.split('\\n')[0]\n",
    "    filename = path.split('\\\\')[-1]\n",
    "    law_part = case.split('\\n')[1]\n",
    "    law_part = law_part.replace('行法施行法','刑法施行法')\n",
    "    law_part = law_part.replace('：','').split('刑法施行法')[0]\n",
    "    # 改成阿拉伯數字/\n",
    "    for ele in tran_num:\n",
    "        law_part = law_part.replace(ele ,tran_num[ele])\n",
    "    # /改成阿拉伯數字\n",
    "    law_part = law_part.replace('修正前','刑法')\n",
    "    # 加入分隔號& /\n",
    "    for ele in law_name:\n",
    "        law_part = law_part.replace(ele ,'&'+ele)\n",
    "    # / 加入分隔號& \n",
    "    kind= law_part.split('&') \n",
    "    for sen in kind: #每一句即一種法\n",
    "        if sen == '':\n",
    "            continue\n",
    "        if '道路交通安全規則' in sen:\n",
    "            continue\n",
    "        # 修正name/\n",
    "        for la in law_name:\n",
    "            if la in sen:\n",
    "                name = la\n",
    "                break\n",
    "        # /修正name    \n",
    "        #regex = \"第\\d+條之\\d第\\d項第\\d款|第\\d+條之\\d第\\d項|第\\d+條第\\d項|第\\d+條第\\d款|第\\d+條|第\\d項\"\n",
    "        regex='\\d+條之\\d+|\\d+之\\d+條|\\d+條'\n",
    "        pattern = re.compile(regex)\n",
    "        res = re.findall(pattern,sen)\n",
    "        for j in res: #j為每一則法條\n",
    "            r = name + j\n",
    "            case_law.append(r)\n",
    "    filenames.append( filename )\n",
    "    laws.append(case_law)"
   ]
  },
  {
   "cell_type": "code",
   "execution_count": 106,
   "metadata": {},
   "outputs": [],
   "source": [
    "# change name\n",
    "#ex= ['刑事訴訟法451條之1','刑事訴訟法455之11條','刑法185條之1','槍砲彈藥刀械管制條例14條','道路交通管理處罰條例86條']\n",
    "new_laws = []\n",
    "tran={'刑事訴訟法':'suit_','刑法':'crime_','槍砲彈藥刀械管制例':'gun_','道路交通管理處罰例':'traf_',\n",
    "     '兒童及少年福利與權益保障法':'kid_' }\n",
    "for case in laws:\n",
    "    case_law=[]\n",
    "    for ele in case:\n",
    "        for i in tran:\n",
    "            ele = ele.replace(i,tran[i])\n",
    "            ele=ele.replace('條','').replace('之','-')\n",
    "            #print(ele)\n",
    "        case_law.append(ele)\n",
    "    new_laws.append(case_law)\n",
    "        "
   ]
  },
  {
   "cell_type": "markdown",
   "metadata": {},
   "source": [
    "# save "
   ]
  },
  {
   "cell_type": "code",
   "execution_count": 108,
   "metadata": {},
   "outputs": [
    {
     "data": {
      "text/plain": [
       "(26885, 8)"
      ]
     },
     "execution_count": 108,
     "metadata": {},
     "output_type": "execute_result"
    }
   ],
   "source": [
    "import pandas as pd\n",
    "df = pd.DataFrame(data={'index':filenames,'laws': new_laws})\n",
    "path = 'D:/Google雲端硬碟/NCKU/法經/法經報告/procedure/csv/index_laws.csv'\n",
    "df.to_csv(path,encoding='utf-8-sig',index=False)\n",
    "data = pd.read_csv('D:/Google雲端硬碟/NCKU/法經/法經報告/procedure/csv/data26885_2.csv',encoding='utf-8-sig')\n",
    "data.shape"
   ]
  },
  {
   "cell_type": "code",
   "execution_count": 110,
   "metadata": {
    "scrolled": true
   },
   "outputs": [
    {
     "data": {
      "text/html": [
       "<div>\n",
       "<style scoped>\n",
       "    .dataframe tbody tr th:only-of-type {\n",
       "        vertical-align: middle;\n",
       "    }\n",
       "\n",
       "    .dataframe tbody tr th {\n",
       "        vertical-align: top;\n",
       "    }\n",
       "\n",
       "    .dataframe thead th {\n",
       "        text-align: right;\n",
       "    }\n",
       "</style>\n",
       "<table border=\"1\" class=\"dataframe\">\n",
       "  <thead>\n",
       "    <tr style=\"text-align: right;\">\n",
       "      <th></th>\n",
       "      <th>court</th>\n",
       "      <th>date</th>\n",
       "      <th>case_kind</th>\n",
       "      <th>case_num</th>\n",
       "      <th>judge</th>\n",
       "      <th>jail</th>\n",
       "      <th>week</th>\n",
       "      <th>laws</th>\n",
       "    </tr>\n",
       "  </thead>\n",
       "  <tbody>\n",
       "    <tr>\n",
       "      <th>南投_2019-01-02_投交簡_576.txt</th>\n",
       "      <td>南投</td>\n",
       "      <td>2019-01-02</td>\n",
       "      <td>投交簡</td>\n",
       "      <td>576</td>\n",
       "      <td>孫于淦</td>\n",
       "      <td>2</td>\n",
       "      <td>1</td>\n",
       "      <td>[suit_449, suit_454, crime_185-3, crime_47, cr...</td>\n",
       "    </tr>\n",
       "    <tr>\n",
       "      <th>南投_2019-01-07_埔交簡_2.txt</th>\n",
       "      <td>南投</td>\n",
       "      <td>2019-01-07</td>\n",
       "      <td>埔交簡</td>\n",
       "      <td>2</td>\n",
       "      <td>孫于淦</td>\n",
       "      <td>3</td>\n",
       "      <td>2</td>\n",
       "      <td>[suit_449, suit_454, crime_185-3, crime_41]</td>\n",
       "    </tr>\n",
       "    <tr>\n",
       "      <th>南投_2019-01-07_投交簡_521.txt</th>\n",
       "      <td>南投</td>\n",
       "      <td>2019-01-07</td>\n",
       "      <td>投交簡</td>\n",
       "      <td>521</td>\n",
       "      <td>楊國煜</td>\n",
       "      <td>2</td>\n",
       "      <td>2</td>\n",
       "      <td>[suit_449, suit_454, crime_185-3, crime_41]</td>\n",
       "    </tr>\n",
       "    <tr>\n",
       "      <th>南投_2019-01-07_投交簡_524.txt</th>\n",
       "      <td>南投</td>\n",
       "      <td>2019-01-07</td>\n",
       "      <td>投交簡</td>\n",
       "      <td>524</td>\n",
       "      <td>孫于淦</td>\n",
       "      <td>5</td>\n",
       "      <td>2</td>\n",
       "      <td>[suit_449, suit_454, crime_185-3, crime_41]</td>\n",
       "    </tr>\n",
       "    <tr>\n",
       "      <th>南投_2019-01-07_投交簡_531.txt</th>\n",
       "      <td>南投</td>\n",
       "      <td>2019-01-07</td>\n",
       "      <td>投交簡</td>\n",
       "      <td>531</td>\n",
       "      <td>黃俊明</td>\n",
       "      <td>5</td>\n",
       "      <td>2</td>\n",
       "      <td>[suit_449, suit_454, crime_185-3, crime_47, cr...</td>\n",
       "    </tr>\n",
       "    <tr>\n",
       "      <th>...</th>\n",
       "      <td>...</td>\n",
       "      <td>...</td>\n",
       "      <td>...</td>\n",
       "      <td>...</td>\n",
       "      <td>...</td>\n",
       "      <td>...</td>\n",
       "      <td>...</td>\n",
       "      <td>...</td>\n",
       "    </tr>\n",
       "    <tr>\n",
       "      <th>高雄_2019-06-18_審交易_437.txt</th>\n",
       "      <td>高雄</td>\n",
       "      <td>2019-06-18</td>\n",
       "      <td>審交易</td>\n",
       "      <td>437</td>\n",
       "      <td>詹尚晃</td>\n",
       "      <td>8</td>\n",
       "      <td>25</td>\n",
       "      <td>[suit_273-1, suit_299, crime_185-3, crime_47]</td>\n",
       "    </tr>\n",
       "    <tr>\n",
       "      <th>高雄_2019-07-16_審交易_528.txt</th>\n",
       "      <td>高雄</td>\n",
       "      <td>2019-07-16</td>\n",
       "      <td>審交易</td>\n",
       "      <td>528</td>\n",
       "      <td>詹尚晃</td>\n",
       "      <td>16</td>\n",
       "      <td>29</td>\n",
       "      <td>[suit_273-1, suit_299, crime_185-3, crime_47]</td>\n",
       "    </tr>\n",
       "    <tr>\n",
       "      <th>高雄_2019-08-15_審交易_625.txt</th>\n",
       "      <td>高雄</td>\n",
       "      <td>2019-08-15</td>\n",
       "      <td>審交易</td>\n",
       "      <td>625</td>\n",
       "      <td>詹尚晃</td>\n",
       "      <td>10</td>\n",
       "      <td>33</td>\n",
       "      <td>[suit_273-1, suit_299, crime_185-3, crime_47]</td>\n",
       "    </tr>\n",
       "    <tr>\n",
       "      <th>高雄_2019-08-20_審交易_652.txt</th>\n",
       "      <td>高雄</td>\n",
       "      <td>2019-08-20</td>\n",
       "      <td>審交易</td>\n",
       "      <td>652</td>\n",
       "      <td>詹尚晃</td>\n",
       "      <td>5</td>\n",
       "      <td>34</td>\n",
       "      <td>[suit_273-1, suit_299, crime_185-3, crime_47, ...</td>\n",
       "    </tr>\n",
       "    <tr>\n",
       "      <th>高雄_2019-08-27_交易_49.txt</th>\n",
       "      <td>高雄</td>\n",
       "      <td>2019-08-27</td>\n",
       "      <td>交易</td>\n",
       "      <td>49</td>\n",
       "      <td>胡慧滿</td>\n",
       "      <td>7</td>\n",
       "      <td>35</td>\n",
       "      <td>[suit_299, suit_300, traf_86, crime_2, crime_1...</td>\n",
       "    </tr>\n",
       "  </tbody>\n",
       "</table>\n",
       "<p>26885 rows × 8 columns</p>\n",
       "</div>"
      ],
      "text/plain": [
       "                          court        date case_kind  case_num judge  jail  \\\n",
       "南投_2019-01-02_投交簡_576.txt    南投  2019-01-02       投交簡       576   孫于淦     2   \n",
       "南投_2019-01-07_埔交簡_2.txt      南投  2019-01-07       埔交簡         2   孫于淦     3   \n",
       "南投_2019-01-07_投交簡_521.txt    南投  2019-01-07       投交簡       521   楊國煜     2   \n",
       "南投_2019-01-07_投交簡_524.txt    南投  2019-01-07       投交簡       524   孫于淦     5   \n",
       "南投_2019-01-07_投交簡_531.txt    南投  2019-01-07       投交簡       531   黃俊明     5   \n",
       "...                         ...         ...       ...       ...   ...   ...   \n",
       "高雄_2019-06-18_審交易_437.txt    高雄  2019-06-18       審交易       437   詹尚晃     8   \n",
       "高雄_2019-07-16_審交易_528.txt    高雄  2019-07-16       審交易       528   詹尚晃    16   \n",
       "高雄_2019-08-15_審交易_625.txt    高雄  2019-08-15       審交易       625   詹尚晃    10   \n",
       "高雄_2019-08-20_審交易_652.txt    高雄  2019-08-20       審交易       652   詹尚晃     5   \n",
       "高雄_2019-08-27_交易_49.txt      高雄  2019-08-27        交易        49   胡慧滿     7   \n",
       "\n",
       "                           week  \\\n",
       "南投_2019-01-02_投交簡_576.txt     1   \n",
       "南投_2019-01-07_埔交簡_2.txt       2   \n",
       "南投_2019-01-07_投交簡_521.txt     2   \n",
       "南投_2019-01-07_投交簡_524.txt     2   \n",
       "南投_2019-01-07_投交簡_531.txt     2   \n",
       "...                         ...   \n",
       "高雄_2019-06-18_審交易_437.txt    25   \n",
       "高雄_2019-07-16_審交易_528.txt    29   \n",
       "高雄_2019-08-15_審交易_625.txt    33   \n",
       "高雄_2019-08-20_審交易_652.txt    34   \n",
       "高雄_2019-08-27_交易_49.txt      35   \n",
       "\n",
       "                                                                        laws  \n",
       "南投_2019-01-02_投交簡_576.txt  [suit_449, suit_454, crime_185-3, crime_47, cr...  \n",
       "南投_2019-01-07_埔交簡_2.txt          [suit_449, suit_454, crime_185-3, crime_41]  \n",
       "南投_2019-01-07_投交簡_521.txt        [suit_449, suit_454, crime_185-3, crime_41]  \n",
       "南投_2019-01-07_投交簡_524.txt        [suit_449, suit_454, crime_185-3, crime_41]  \n",
       "南投_2019-01-07_投交簡_531.txt  [suit_449, suit_454, crime_185-3, crime_47, cr...  \n",
       "...                                                                      ...  \n",
       "高雄_2019-06-18_審交易_437.txt      [suit_273-1, suit_299, crime_185-3, crime_47]  \n",
       "高雄_2019-07-16_審交易_528.txt      [suit_273-1, suit_299, crime_185-3, crime_47]  \n",
       "高雄_2019-08-15_審交易_625.txt      [suit_273-1, suit_299, crime_185-3, crime_47]  \n",
       "高雄_2019-08-20_審交易_652.txt  [suit_273-1, suit_299, crime_185-3, crime_47, ...  \n",
       "高雄_2019-08-27_交易_49.txt    [suit_299, suit_300, traf_86, crime_2, crime_1...  \n",
       "\n",
       "[26885 rows x 8 columns]"
      ]
     },
     "execution_count": 110,
     "metadata": {},
     "output_type": "execute_result"
    }
   ],
   "source": [
    "df.set_index(['index'],inplace = True)\n",
    "data.set_index(['index'],inplace = True)\n",
    "data2 = pd.concat([data,df],axis='columns')\n",
    "data2.reset_index(inplace=True)\n",
    "data2"
   ]
  },
  {
   "cell_type": "code",
   "execution_count": 111,
   "metadata": {},
   "outputs": [],
   "source": [
    "data2.to_csv('D:/Google雲端硬碟/NCKU/法經/法經報告/procedure/csv/data26885_3.csv',encoding='utf-8-sig',index=False)\n",
    "data2.to_csv('D:/Google雲端硬碟/NCKU/法經/備份檔案/data26885_3.csv',encoding='utf-8-sig',index=False)"
   ]
  },
  {
   "cell_type": "markdown",
   "metadata": {},
   "source": [
    "## debug ----------------------------------------------------------"
   ]
  },
  {
   "cell_type": "code",
   "execution_count": 107,
   "metadata": {
    "scrolled": true
   },
   "outputs": [
    {
     "data": {
      "text/plain": [
       "({'crime_1',\n",
       "  'crime_11',\n",
       "  'crime_13',\n",
       "  'crime_135',\n",
       "  'crime_138',\n",
       "  'crime_14',\n",
       "  'crime_140',\n",
       "  'crime_175',\n",
       "  'crime_18',\n",
       "  'crime_185',\n",
       "  'crime_185-1',\n",
       "  'crime_185-3',\n",
       "  'crime_185-4',\n",
       "  'crime_2',\n",
       "  'crime_20',\n",
       "  'crime_210',\n",
       "  'crime_216',\n",
       "  'crime_217',\n",
       "  'crime_219',\n",
       "  'crime_276',\n",
       "  'crime_277',\n",
       "  'crime_284',\n",
       "  'crime_3',\n",
       "  'crime_305',\n",
       "  'crime_309',\n",
       "  'crime_320',\n",
       "  'crime_321',\n",
       "  'crime_354',\n",
       "  'crime_38',\n",
       "  'crime_38-1',\n",
       "  'crime_41',\n",
       "  'crime_42',\n",
       "  'crime_44',\n",
       "  'crime_47',\n",
       "  'crime_50',\n",
       "  'crime_51',\n",
       "  'crime_54',\n",
       "  'crime_55',\n",
       "  'crime_57',\n",
       "  'crime_59',\n",
       "  'crime_61',\n",
       "  'crime_62',\n",
       "  'crime_71',\n",
       "  'crime_74',\n",
       "  'crime_75-1',\n",
       "  'crime_8',\n",
       "  'crime_89',\n",
       "  'crime_92',\n",
       "  'crime_93',\n",
       "  'crime_95',\n",
       "  'gun_14',\n",
       "  'kid_112',\n",
       "  'suit_159',\n",
       "  'suit_159-1',\n",
       "  'suit_159-4',\n",
       "  'suit_159-5',\n",
       "  'suit_185-3',\n",
       "  'suit_199',\n",
       "  'suit_229',\n",
       "  'suit_273-1',\n",
       "  'suit_273-2',\n",
       "  'suit_284-1',\n",
       "  'suit_299',\n",
       "  'suit_3',\n",
       "  'suit_3-2',\n",
       "  'suit_300',\n",
       "  'suit_301',\n",
       "  'suit_303',\n",
       "  'suit_307',\n",
       "  'suit_310-1',\n",
       "  'suit_310-2',\n",
       "  'suit_41',\n",
       "  'suit_449',\n",
       "  'suit_450',\n",
       "  'suit_451-1',\n",
       "  'suit_452',\n",
       "  'suit_454',\n",
       "  'suit_455',\n",
       "  'suit_455-1',\n",
       "  'suit_455-10',\n",
       "  'suit_455-11',\n",
       "  'suit_455-2',\n",
       "  'suit_455-4',\n",
       "  'suit_455-5',\n",
       "  'suit_455-8',\n",
       "  'suit_47',\n",
       "  'traf_86'},\n",
       " 87)"
      ]
     },
     "execution_count": 107,
     "metadata": {},
     "output_type": "execute_result"
    }
   ],
   "source": [
    "aa = []\n",
    "for i in new_laws:\n",
    "    for j in i:\n",
    "        aa.append(j)\n",
    "set(aa),len(set(aa) )"
   ]
  },
  {
   "cell_type": "code",
   "execution_count": 52,
   "metadata": {},
   "outputs": [
    {
     "name": "stdout",
     "output_type": "stream",
     "text": [
      "12541\n",
      "&刑事訴訟法第273條之1第1項、第299條第1項前段、第310條之2、第454條第1項，&刑法第185條之3第1項第1款、第41條第1項前段、第47條第1項、第62條、第71條第1項、\n",
      "['', '刑事訴訟法第273條之1第1項、第299條第1項前段、第310條之2、第454條第1項，', '刑法第185條之3第1項第1款、第41條第1項前段、第47條第1項、第62條、第71條第1項、']\n",
      "刑法\n",
      "22985\n",
      "&刑事訴訟法第449條第1項前段、第3項、第454條第2項，&刑法第185條之3第1項第1款、第47條第1項、第18條第3項、第41條第1項前段、第71條第1項，\n",
      "['', '刑事訴訟法第449條第1項前段、第3項、第454條第2項，', '刑法第185條之3第1項第1款、第47條第1項、第18條第3項、第41條第1項前段、第71條第1項，']\n",
      "刑法\n"
     ]
    }
   ],
   "source": [
    "target ='刑法71條'\n",
    "count = 0\n",
    "for i,case in enumerate( cases ):\n",
    "    #filename,case_law ='',[]\n",
    "    path = case.split('\\n')[0]\n",
    "    filename = path.split('\\\\')[-1]\n",
    "    law_part = case.split('\\n')[1]\n",
    "    law_part = law_part.replace('行法施行法','刑法施行法')\n",
    "    law_part = law_part.replace('：','').split('刑法施行法')[0]\n",
    "    # 改成阿拉伯數字/\n",
    "    for ele in tran_num:\n",
    "        law_part = law_part.replace(ele ,tran_num[ele])\n",
    "    # /改成阿拉伯數字\n",
    "    # 加入分隔號& /\n",
    "    for ele in law_name:\n",
    "        law_part = law_part.replace(ele ,'&'+ele)\n",
    "    # / 加入分隔號& \n",
    "    kind= law_part.split('&') \n",
    "    for sen in kind: #每一句即一種法\n",
    "        if sen == '':\n",
    "            continue\n",
    "        # 修正name/\n",
    "        for la in law_name:\n",
    "            if la in sen:\n",
    "                name = la\n",
    "                break    \n",
    "        #regex = \"第\\d+條之\\d第\\d項第\\d款|第\\d+條之\\d第\\d項|第\\d+條第\\d項|第\\d+條第\\d款|第\\d+條|第\\d項\"\n",
    "        regex='\\d+條之\\d+|\\d+之\\d+條|\\d+條'\n",
    "        pattern = re.compile(regex)\n",
    "        res = re.findall(pattern,sen)\n",
    "        for j in res: #j為每一則法條\n",
    "            r = name + j\n",
    "            if target in r:\n",
    "                print(i,law_part,kind,sep='\\n')\n",
    "                print(name)\n",
    "                count = count + 1\n",
    "                break\n",
    "            #case_law.append(j)\n",
    "    if count > 20:\n",
    "        break"
   ]
  },
  {
   "cell_type": "code",
   "execution_count": 62,
   "metadata": {},
   "outputs": [
    {
     "name": "stdout",
     "output_type": "stream",
     "text": [
      "&刑事訴訟法第273條之1第1項、第299條第1項前段、第310條之2、第454條第2項，&刑法第185條之3第1項第1款、第47條第1項、第41條第1項前段、第42條第3項前段，行法施行法第1條之1第1項，\n",
      "['刑事訴訟法法第273條', '刑事訴訟法、第299條', '刑事訴訟法、第310條', '刑事訴訟法、第454條', '刑法法第185條', '刑法款、第47條', '刑法項、第41條', '刑法段、第42條', '刑法施行法第1條']\n"
     ]
    }
   ],
   "source": [
    "case = cases[8761]\n",
    "catch = []\n",
    "path = case.split('\\n')[0]\n",
    "filename = path.split('\\\\')[-1]\n",
    "law_part = case.split('\\n')[1]\n",
    "law_part = law_part.replace('：','')\n",
    "law_part = law_part.replace('：','').split('刑法施行法')[0]\n",
    "# 改成阿拉伯數字/\n",
    "for ele in tran_num:\n",
    "    law_part = law_part.replace(ele ,tran_num[ele])\n",
    "# /改成阿拉伯數字\n",
    "# 加入分隔號& /\n",
    "for ele in law_name:\n",
    "    law_part = law_part.replace(ele ,'&'+ele)\n",
    "# / 加入分隔號& \n",
    "kind= law_part.split('&') \n",
    "for sen in kind: #每一句即一種法\n",
    "    if sen == '':\n",
    "        continue\n",
    "    # 修正name/\n",
    "    for la in law_name:\n",
    "        if la in sen:\n",
    "            name = la\n",
    "            break    \n",
    "    #regex = \"第\\d+條之\\d第\\d項第\\d款|第\\d+條之\\d第\\d項|第\\d+條第\\d項|第\\d+條第\\d款|第\\d+條|第\\d項\"\n",
    "    #regex='\\d+條之\\d+|\\d+之\\d+條|\\d+條'\n",
    "    regex= '.{1,5}條'\n",
    "    pattern = re.compile(regex)\n",
    "    res = re.findall(pattern,sen)\n",
    "    for j in res: #j為每一則法條\n",
    "        r = name + j\n",
    "        catch.append(r)\n",
    "print( law_part, catch,sep='\\n')"
   ]
  },
  {
   "cell_type": "markdown",
   "metadata": {},
   "source": [
    "# 看有哪些法"
   ]
  },
  {
   "cell_type": "code",
   "execution_count": 68,
   "metadata": {},
   "outputs": [],
   "source": [
    "import re\n",
    "out = []\n",
    "for case in cases:\n",
    "    filename,case_law ='',[]\n",
    "    path = case.split('\\n')[0]\n",
    "    filename = path.split('\\\\')[-1]\n",
    "    law_part = case.split('\\n')[1]\n",
    "    law_part = law_part.replace('行法施行法','刑法施行法')\n",
    "    law_part = law_part.replace('：','').split('刑法施行法')[0]\n",
    "    # 改成阿拉伯數字/\n",
    "    for ele in tran_num:\n",
    "        law_part = law_part.replace(ele ,tran_num[ele])\n",
    "    # /改成阿拉伯數字\n",
    "    law_part = law_part.replace('修正前','刑法')\n",
    "    #regex = \"第\\d+條之\\d第\\d項第\\d款|第\\d+條之\\d第\\d項|第\\d+條第\\d項|第\\d+條第\\d款|第\\d+條|第\\d項\"\n",
    "    regex='.{1,15}條'\n",
    "    pattern = re.compile(regex)\n",
    "    res = re.findall(pattern,law_part)\n",
    "    for j in res: #j為每一則法條\n",
    "        out.append(j)\n"
   ]
  },
  {
   "cell_type": "markdown",
   "metadata": {},
   "source": [
    "## ---------------------------"
   ]
  },
  {
   "cell_type": "markdown",
   "metadata": {},
   "source": [
    "# 轉成阿拉伯數字"
   ]
  },
  {
   "cell_type": "code",
   "execution_count": 61,
   "metadata": {},
   "outputs": [
    {
     "data": {
      "text/plain": [
       "'刑事訴訟法第284條之1、第273條之1第1項、第299條第1項前段，刑法第185條之3第1項第1款、第47條第1項，'"
      ]
     },
     "execution_count": 61,
     "metadata": {},
     "output_type": "execute_result"
    }
   ],
   "source": [
    "tar = law_part\n",
    "tran_num = {u\"零\" : \"0\",u\"一\" : \"1\",u\"二\" : \"2\",u\"三\" : \"3\",u\"四\" : \"4\",u\"五\" : \"5\",u\"六\" : \"6\",u\"七\" : \"7\",u\"八\" : \"8\",\n",
    "    u\"九\" : \"9\",'百':'','十':'' }\n",
    "for ele in tran_num:\n",
    "    tar = tar.replace(ele ,tran_num[ele])\n",
    "tar"
   ]
  },
  {
   "cell_type": "code",
   "execution_count": null,
   "metadata": {},
   "outputs": [],
   "source": [
    "kind =[]\n",
    "for i,case in enumerate( cases ):\n",
    "    if i % 2700 == 0:\n",
    "        print(i)\n",
    "    path = case.split('\\n')[0]\n",
    "    filename = path.split('\\\\')[-1]\n",
    "    law_part = case.split('\\n')[1].split('。')[0]\n",
    "    input_text = law_part\n",
    "    regex = '(\\w+)第'\n",
    "    pattern = re.compile(regex)\n",
    "    match = re.findall(pattern, input_text)\n",
    "    for i in match:\n",
    "        kind.append(i)\n",
    "set(kind)"
   ]
  },
  {
   "cell_type": "code",
   "execution_count": 57,
   "metadata": {},
   "outputs": [
    {
     "data": {
      "text/plain": [
       "['第１８５條之３第１項']"
      ]
     },
     "execution_count": 57,
     "metadata": {},
     "output_type": "execute_result"
    }
   ],
   "source": [
    "tx= '第１８５條之３第１項'\n",
    "pattern = re.compile('第\\d+條之\\d第\\d項第\\d款|第\\d+條之\\d第\\d項|第\\d+條第\\d項|第\\d+條第\\d款|第\\d+條|第\\d項')\n",
    "res = re.findall(pattern,tx)\n",
    "res"
   ]
  }
 ],
 "metadata": {
  "kernelspec": {
   "display_name": "Python 3",
   "language": "python",
   "name": "python3"
  },
  "language_info": {
   "codemirror_mode": {
    "name": "ipython",
    "version": 3
   },
   "file_extension": ".py",
   "mimetype": "text/x-python",
   "name": "python",
   "nbconvert_exporter": "python",
   "pygments_lexer": "ipython3",
   "version": "3.7.10"
  }
 },
 "nbformat": 4,
 "nbformat_minor": 4
}
