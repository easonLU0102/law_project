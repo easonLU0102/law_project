{
 "cells": [
  {
   "cell_type": "code",
   "execution_count": 10,
   "metadata": {},
   "outputs": [],
   "source": [
    "def main_part_vehicle(main_part):\n",
    "\n",
    "    import re\n",
    "    vehicles = [\"機車\",\"小客車\",\"貨車\", \"大型車\",\"電動自行車\"] # 正規的交通工具\n",
    "    verbs = [\"騎乘\",\"駕駛\"] # 綫索1\n",
    "    str_cues = [\"車牌號碼\"] # 綫索2\n",
    "    vehicle = []\n",
    "    target = []\n",
    "    \n",
    "    vehicles_final = [\"機車\",\"小客車\",\"貨車\", \"大型車\",\"電動自行車\",\"駕車\"] # 綫索都用完了還是沒捉到交通工具時的最後通牒\n",
    "    \n",
    "    main_part = main_part.strip().replace(\"\\n\",\"\").replace(\" \",\"\") # 對文檔做處理\n",
    "\n",
    "    \n",
    "    for i in verbs: # 先抓綫索1\n",
    "        iter = re.finditer(i, main_part)\n",
    "        indices = [m.start(0) for m in iter]\n",
    "        if indices:\n",
    "            for j in indices:\n",
    "                if \"車牌號碼\" in main_part[j:j+20]: # 如果 綫索1 綫索2 同時出現\n",
    "                    for k in vehicles:\n",
    "                        if k in main_part[j:j+25]:\n",
    "                            vehicle.append(k)\n",
    "                    if vehicle:\n",
    "                        #print(\"Strong Cue!\") # 抓對的機率很高，這個部分只是爲了檢驗才把字print出來，可刪去\n",
    "                        return vehicle[0] # 既然綫索這麽強就直接抓了，以下就省略\n",
    "                        \n",
    "                else: # 如果只有綫索1 \n",
    "                    for k in vehicles:\n",
    "                        if k in main_part[j:j+25]:\n",
    "                            vehicle.append(k)\n",
    "                    if vehicle:\n",
    "                        #print(\"Rather strong cue.\") # 抓對的機率也很高，也抓了吧！\n",
    "                        return vehicle[0]\n",
    "    \n",
    "    if not vehicle: # 如果綫索都沒有找到，只能出最後通牒了，只要看到vehicle_final都抓起來\n",
    "        for i in vehicles_final:\n",
    "            iter_ = re.finditer(i, main_part)\n",
    "            indices = [m.start(0) for m in iter_]\n",
    "            if indices:\n",
    "                for j in indices:\n",
    "                    target.append(j) # 把所有抓到的交通工具在文章中的位置記錄下來\n",
    "        try:\n",
    "            target = min(target) # 這個判斷是因爲發現在文中常常會先説被告的罪行，\n",
    "            # 才説事情經過，所以在文中最早出現的交通工具比較有可能是被告駕駛的交通工具，\n",
    "            # 這是我自己看到的經驗法則，不排除這個部分會抓錯，至少我自己抽查了蠻常都是對的。\n",
    "            vhc_clue = main_part[target]\n",
    "            if vhc_clue == \"機\":\n",
    "                vehicle = \"機車\"\n",
    "            elif vhc_clue == \"小\":\n",
    "                vehicle = \"小客車\"\n",
    "            elif vhc_clue == \"駕\": # 很多的文章（尤其桃園（可到30多%），士林，臺中，臺東，花蓮）\n",
    "            # 都沒有明確表明交通工具，都寫\"駕車\"，個人判斷較高機率為小客車，一樣有判斷錯誤的可能\n",
    "                vehicle = \"小客車\"\n",
    "            elif vhc_clue == \"貨\" or vhc_clue == \"大\":\n",
    "                vehicle = \"大型車\"\n",
    "            elif vhc_clue == \"電\":\n",
    "                vehicle = \"電動自行車\"\n",
    "            #print(\"Not so sure......\") # 一樣這個只是方便自己做檢驗，可刪去    \n",
    "            return vehicle\n",
    "        except:\n",
    "            return \"Error\"\n",
    "\n",
    "# 這樣的結果是有729篇文章會error。當然有抓到結果的當中可能會有錯誤的部分不過 應 該 不 會 多 過 對 的       \n"
   ]
  },
  {
   "cell_type": "code",
   "execution_count": 2,
   "metadata": {},
   "outputs": [
    {
     "data": {
      "text/plain": [
       "26885"
      ]
     },
     "execution_count": 2,
     "metadata": {},
     "output_type": "execute_result"
    }
   ],
   "source": [
    "import glob\n",
    "files = glob.glob(r'D:\\Google雲端硬碟\\NCKU\\法經\\法經報告\\procedure\\判決書\\*\\*.txt')\n",
    "len(files)"
   ]
  },
  {
   "cell_type": "code",
   "execution_count": 14,
   "metadata": {
    "collapsed": true
   },
   "outputs": [
    {
     "name": "stdout",
     "output_type": "stream",
     "text": [
      "0\n",
      "2700\n",
      "5400\n",
      "8100\n",
      "10800\n",
      "13500\n",
      "16200\n",
      "18900\n",
      "21600\n",
      "24300\n"
     ]
    }
   ],
   "source": [
    "filenames = []\n",
    "vehicles = []\n",
    "for i,file in enumerate( files ):\n",
    "    if i % 2700 == 0:\n",
    "        print(i)\n",
    "    with open(file,'r',encoding='utf-8-sig') as f:\n",
    "        txt = f.read()\n",
    "    vehi = main_part_vehicle(txt)\n",
    "    filenames.append(file)\n",
    "    vehicles.append(vehi)"
   ]
  },
  {
   "cell_type": "code",
   "execution_count": 19,
   "metadata": {},
   "outputs": [
    {
     "data": {
      "text/plain": [
       "{'Error', '大型車', '小客車', '機車', '貨車', '電動自行車'}"
      ]
     },
     "execution_count": 19,
     "metadata": {},
     "output_type": "execute_result"
    }
   ],
   "source": [
    "set(vehicles)"
   ]
  },
  {
   "cell_type": "code",
   "execution_count": 25,
   "metadata": {},
   "outputs": [
    {
     "data": {
      "text/plain": [
       "{'', '大型車', '小客車', '機車', '貨車', '電動自行車'}"
      ]
     },
     "execution_count": 25,
     "metadata": {},
     "output_type": "execute_result"
    }
   ],
   "source": [
    "new= vehicles\n",
    "for i,t in enumerate(vehicles):\n",
    "    if t == 'Error':\n",
    "        new[i] = ''"
   ]
  },
  {
   "cell_type": "code",
   "execution_count": 39,
   "metadata": {},
   "outputs": [
    {
     "data": {
      "text/plain": [
       "{'', 'v_Lcar', 'v_car', 'v_elebike', 'v_motor', 'v_truck'}"
      ]
     },
     "execution_count": 39,
     "metadata": {},
     "output_type": "execute_result"
    }
   ],
   "source": [
    "tran = {'大型車':'v_Lcar','小客車':'v_car','機車':'v_motor','貨車':'v_truck','電動自行車':'v_elebike','':'' }\n",
    "for i,t in enumerate(vehicles):\n",
    "    if t in tran:\n",
    "        vehicles[i] = tran[t]\n",
    "set(vehicles)"
   ]
  },
  {
   "cell_type": "code",
   "execution_count": 42,
   "metadata": {},
   "outputs": [],
   "source": [
    "a= filenames"
   ]
  },
  {
   "cell_type": "code",
   "execution_count": 43,
   "metadata": {},
   "outputs": [
    {
     "data": {
      "text/plain": [
       "'D:\\\\Google雲端硬碟\\\\NCKU\\\\法經\\\\法經報告\\\\procedure\\\\判決書\\\\南投\\\\南投_2019-01-02_投交簡_576.txt'"
      ]
     },
     "execution_count": 43,
     "metadata": {},
     "output_type": "execute_result"
    }
   ],
   "source": [
    "a[0]"
   ]
  },
  {
   "cell_type": "code",
   "execution_count": 44,
   "metadata": {},
   "outputs": [
    {
     "data": {
      "text/plain": [
       "'南投_2019-01-11_埔交簡_181.txt'"
      ]
     },
     "execution_count": 44,
     "metadata": {},
     "output_type": "execute_result"
    }
   ],
   "source": [
    "for i,t in enumerate(a):\n",
    "    a[i] = t.split('\\\\')[-1]\n",
    "a[10]"
   ]
  },
  {
   "cell_type": "code",
   "execution_count": 45,
   "metadata": {},
   "outputs": [],
   "source": [
    "filenames = a"
   ]
  },
  {
   "cell_type": "code",
   "execution_count": 46,
   "metadata": {},
   "outputs": [
    {
     "data": {
      "text/plain": [
       "(26885, 129)"
      ]
     },
     "execution_count": 46,
     "metadata": {},
     "output_type": "execute_result"
    }
   ],
   "source": [
    "import pandas as pd\n",
    "df = pd.DataFrame(data={'index':filenames,'vehicle': vehicles})\n",
    "path = 'D:/Google雲端硬碟/NCKU/法經/法經報告/procedure/csv/index_vehicle.csv'\n",
    "df.to_csv(path,encoding='utf-8-sig',index=False)\n",
    "data = pd.read_csv('D:/Google雲端硬碟/NCKU/法經/法經報告/procedure/csv/data26885_5.csv',encoding='utf-8-sig')\n",
    "data.shape"
   ]
  },
  {
   "cell_type": "code",
   "execution_count": 48,
   "metadata": {
    "collapsed": true
   },
   "outputs": [
    {
     "data": {
      "text/html": [
       "<div>\n",
       "<style scoped>\n",
       "    .dataframe tbody tr th:only-of-type {\n",
       "        vertical-align: middle;\n",
       "    }\n",
       "\n",
       "    .dataframe tbody tr th {\n",
       "        vertical-align: top;\n",
       "    }\n",
       "\n",
       "    .dataframe thead th {\n",
       "        text-align: right;\n",
       "    }\n",
       "</style>\n",
       "<table border=\"1\" class=\"dataframe\">\n",
       "  <thead>\n",
       "    <tr style=\"text-align: right;\">\n",
       "      <th></th>\n",
       "      <th>index</th>\n",
       "      <th>court</th>\n",
       "      <th>date</th>\n",
       "      <th>case_kind</th>\n",
       "      <th>case_num</th>\n",
       "      <th>judge</th>\n",
       "      <th>jail</th>\n",
       "      <th>week</th>\n",
       "      <th>laws</th>\n",
       "      <th>'crime_1'</th>\n",
       "      <th>...</th>\n",
       "      <th>shilin</th>\n",
       "      <th>taichung</th>\n",
       "      <th>tainan</th>\n",
       "      <th>taipei</th>\n",
       "      <th>taitung</th>\n",
       "      <th>taoyuan</th>\n",
       "      <th>yilan</th>\n",
       "      <th>yunlin</th>\n",
       "      <th>alcohol</th>\n",
       "      <th>vehicle</th>\n",
       "    </tr>\n",
       "  </thead>\n",
       "  <tbody>\n",
       "    <tr>\n",
       "      <th>0</th>\n",
       "      <td>南投_2019-01-02_投交簡_576.txt</td>\n",
       "      <td>nantou</td>\n",
       "      <td>2019/1/2</td>\n",
       "      <td>投交簡</td>\n",
       "      <td>576</td>\n",
       "      <td>孫于淦</td>\n",
       "      <td>2</td>\n",
       "      <td>1</td>\n",
       "      <td>'suit_449', 'suit_454', 'crime_185-3', 'crime_...</td>\n",
       "      <td>0</td>\n",
       "      <td>...</td>\n",
       "      <td>0</td>\n",
       "      <td>0</td>\n",
       "      <td>0</td>\n",
       "      <td>0</td>\n",
       "      <td>0</td>\n",
       "      <td>0</td>\n",
       "      <td>0</td>\n",
       "      <td>0</td>\n",
       "      <td>1.075</td>\n",
       "      <td>v_motor</td>\n",
       "    </tr>\n",
       "    <tr>\n",
       "      <th>1</th>\n",
       "      <td>南投_2019-01-07_埔交簡_2.txt</td>\n",
       "      <td>nantou</td>\n",
       "      <td>2019/1/7</td>\n",
       "      <td>埔交簡</td>\n",
       "      <td>2</td>\n",
       "      <td>孫于淦</td>\n",
       "      <td>3</td>\n",
       "      <td>2</td>\n",
       "      <td>'suit_449', 'suit_454', 'crime_185-3', 'crime_41'</td>\n",
       "      <td>0</td>\n",
       "      <td>...</td>\n",
       "      <td>0</td>\n",
       "      <td>0</td>\n",
       "      <td>0</td>\n",
       "      <td>0</td>\n",
       "      <td>0</td>\n",
       "      <td>0</td>\n",
       "      <td>0</td>\n",
       "      <td>0</td>\n",
       "      <td>0.540</td>\n",
       "      <td>v_truck</td>\n",
       "    </tr>\n",
       "    <tr>\n",
       "      <th>2</th>\n",
       "      <td>南投_2019-01-07_投交簡_521.txt</td>\n",
       "      <td>nantou</td>\n",
       "      <td>2019/1/7</td>\n",
       "      <td>投交簡</td>\n",
       "      <td>521</td>\n",
       "      <td>楊國煜</td>\n",
       "      <td>2</td>\n",
       "      <td>2</td>\n",
       "      <td>'suit_449', 'suit_454', 'crime_185-3', 'crime_41'</td>\n",
       "      <td>0</td>\n",
       "      <td>...</td>\n",
       "      <td>0</td>\n",
       "      <td>0</td>\n",
       "      <td>0</td>\n",
       "      <td>0</td>\n",
       "      <td>0</td>\n",
       "      <td>0</td>\n",
       "      <td>0</td>\n",
       "      <td>0</td>\n",
       "      <td>0.290</td>\n",
       "      <td>v_car</td>\n",
       "    </tr>\n",
       "    <tr>\n",
       "      <th>3</th>\n",
       "      <td>南投_2019-01-07_投交簡_524.txt</td>\n",
       "      <td>nantou</td>\n",
       "      <td>2019/1/7</td>\n",
       "      <td>投交簡</td>\n",
       "      <td>524</td>\n",
       "      <td>孫于淦</td>\n",
       "      <td>5</td>\n",
       "      <td>2</td>\n",
       "      <td>'suit_449', 'suit_454', 'crime_185-3', 'crime_41'</td>\n",
       "      <td>0</td>\n",
       "      <td>...</td>\n",
       "      <td>0</td>\n",
       "      <td>0</td>\n",
       "      <td>0</td>\n",
       "      <td>0</td>\n",
       "      <td>0</td>\n",
       "      <td>0</td>\n",
       "      <td>0</td>\n",
       "      <td>0</td>\n",
       "      <td>0.250</td>\n",
       "      <td>v_motor</td>\n",
       "    </tr>\n",
       "    <tr>\n",
       "      <th>4</th>\n",
       "      <td>南投_2019-01-07_投交簡_531.txt</td>\n",
       "      <td>nantou</td>\n",
       "      <td>2019/1/7</td>\n",
       "      <td>投交簡</td>\n",
       "      <td>531</td>\n",
       "      <td>黃俊明</td>\n",
       "      <td>5</td>\n",
       "      <td>2</td>\n",
       "      <td>'suit_449', 'suit_454', 'crime_185-3', 'crime_...</td>\n",
       "      <td>0</td>\n",
       "      <td>...</td>\n",
       "      <td>0</td>\n",
       "      <td>0</td>\n",
       "      <td>0</td>\n",
       "      <td>0</td>\n",
       "      <td>0</td>\n",
       "      <td>0</td>\n",
       "      <td>0</td>\n",
       "      <td>0</td>\n",
       "      <td>0.430</td>\n",
       "      <td>v_motor</td>\n",
       "    </tr>\n",
       "    <tr>\n",
       "      <th>...</th>\n",
       "      <td>...</td>\n",
       "      <td>...</td>\n",
       "      <td>...</td>\n",
       "      <td>...</td>\n",
       "      <td>...</td>\n",
       "      <td>...</td>\n",
       "      <td>...</td>\n",
       "      <td>...</td>\n",
       "      <td>...</td>\n",
       "      <td>...</td>\n",
       "      <td>...</td>\n",
       "      <td>...</td>\n",
       "      <td>...</td>\n",
       "      <td>...</td>\n",
       "      <td>...</td>\n",
       "      <td>...</td>\n",
       "      <td>...</td>\n",
       "      <td>...</td>\n",
       "      <td>...</td>\n",
       "      <td>...</td>\n",
       "      <td>...</td>\n",
       "    </tr>\n",
       "    <tr>\n",
       "      <th>26880</th>\n",
       "      <td>高雄_2019-06-18_審交易_437.txt</td>\n",
       "      <td>kaohsiung</td>\n",
       "      <td>2019/6/18</td>\n",
       "      <td>審交易</td>\n",
       "      <td>437</td>\n",
       "      <td>詹尚晃</td>\n",
       "      <td>8</td>\n",
       "      <td>25</td>\n",
       "      <td>'suit_273-1', 'suit_299', 'crime_185-3', 'crim...</td>\n",
       "      <td>0</td>\n",
       "      <td>...</td>\n",
       "      <td>0</td>\n",
       "      <td>0</td>\n",
       "      <td>0</td>\n",
       "      <td>0</td>\n",
       "      <td>0</td>\n",
       "      <td>0</td>\n",
       "      <td>0</td>\n",
       "      <td>0</td>\n",
       "      <td>0.700</td>\n",
       "      <td>v_motor</td>\n",
       "    </tr>\n",
       "    <tr>\n",
       "      <th>26881</th>\n",
       "      <td>高雄_2019-07-16_審交易_528.txt</td>\n",
       "      <td>kaohsiung</td>\n",
       "      <td>2019/7/16</td>\n",
       "      <td>審交易</td>\n",
       "      <td>528</td>\n",
       "      <td>詹尚晃</td>\n",
       "      <td>16</td>\n",
       "      <td>29</td>\n",
       "      <td>'suit_273-1', 'suit_299', 'crime_185-3', 'crim...</td>\n",
       "      <td>0</td>\n",
       "      <td>...</td>\n",
       "      <td>0</td>\n",
       "      <td>0</td>\n",
       "      <td>0</td>\n",
       "      <td>0</td>\n",
       "      <td>0</td>\n",
       "      <td>0</td>\n",
       "      <td>0</td>\n",
       "      <td>0</td>\n",
       "      <td>0.660</td>\n",
       "      <td>v_motor</td>\n",
       "    </tr>\n",
       "    <tr>\n",
       "      <th>26882</th>\n",
       "      <td>高雄_2019-08-15_審交易_625.txt</td>\n",
       "      <td>kaohsiung</td>\n",
       "      <td>2019/8/15</td>\n",
       "      <td>審交易</td>\n",
       "      <td>625</td>\n",
       "      <td>詹尚晃</td>\n",
       "      <td>10</td>\n",
       "      <td>33</td>\n",
       "      <td>'suit_273-1', 'suit_299', 'crime_185-3', 'crim...</td>\n",
       "      <td>0</td>\n",
       "      <td>...</td>\n",
       "      <td>0</td>\n",
       "      <td>0</td>\n",
       "      <td>0</td>\n",
       "      <td>0</td>\n",
       "      <td>0</td>\n",
       "      <td>0</td>\n",
       "      <td>0</td>\n",
       "      <td>0</td>\n",
       "      <td>0.500</td>\n",
       "      <td>v_motor</td>\n",
       "    </tr>\n",
       "    <tr>\n",
       "      <th>26883</th>\n",
       "      <td>高雄_2019-08-20_審交易_652.txt</td>\n",
       "      <td>kaohsiung</td>\n",
       "      <td>2019/8/20</td>\n",
       "      <td>審交易</td>\n",
       "      <td>652</td>\n",
       "      <td>詹尚晃</td>\n",
       "      <td>5</td>\n",
       "      <td>34</td>\n",
       "      <td>'suit_273-1', 'suit_299', 'crime_185-3', 'crim...</td>\n",
       "      <td>0</td>\n",
       "      <td>...</td>\n",
       "      <td>0</td>\n",
       "      <td>0</td>\n",
       "      <td>0</td>\n",
       "      <td>0</td>\n",
       "      <td>0</td>\n",
       "      <td>0</td>\n",
       "      <td>0</td>\n",
       "      <td>0</td>\n",
       "      <td>0.590</td>\n",
       "      <td>v_motor</td>\n",
       "    </tr>\n",
       "    <tr>\n",
       "      <th>26884</th>\n",
       "      <td>高雄_2019-08-27_交易_49.txt</td>\n",
       "      <td>kaohsiung</td>\n",
       "      <td>2019/8/27</td>\n",
       "      <td>交易</td>\n",
       "      <td>49</td>\n",
       "      <td>胡慧滿</td>\n",
       "      <td>7</td>\n",
       "      <td>35</td>\n",
       "      <td>'suit_299', 'suit_300', 'traf_86', 'crime_2', ...</td>\n",
       "      <td>0</td>\n",
       "      <td>...</td>\n",
       "      <td>0</td>\n",
       "      <td>0</td>\n",
       "      <td>0</td>\n",
       "      <td>0</td>\n",
       "      <td>0</td>\n",
       "      <td>0</td>\n",
       "      <td>0</td>\n",
       "      <td>0</td>\n",
       "      <td>0.280</td>\n",
       "      <td>v_motor</td>\n",
       "    </tr>\n",
       "  </tbody>\n",
       "</table>\n",
       "<p>26885 rows × 130 columns</p>\n",
       "</div>"
      ],
      "text/plain": [
       "                           index      court       date case_kind  case_num  \\\n",
       "0      南投_2019-01-02_投交簡_576.txt     nantou   2019/1/2       投交簡       576   \n",
       "1        南投_2019-01-07_埔交簡_2.txt     nantou   2019/1/7       埔交簡         2   \n",
       "2      南投_2019-01-07_投交簡_521.txt     nantou   2019/1/7       投交簡       521   \n",
       "3      南投_2019-01-07_投交簡_524.txt     nantou   2019/1/7       投交簡       524   \n",
       "4      南投_2019-01-07_投交簡_531.txt     nantou   2019/1/7       投交簡       531   \n",
       "...                          ...        ...        ...       ...       ...   \n",
       "26880  高雄_2019-06-18_審交易_437.txt  kaohsiung  2019/6/18       審交易       437   \n",
       "26881  高雄_2019-07-16_審交易_528.txt  kaohsiung  2019/7/16       審交易       528   \n",
       "26882  高雄_2019-08-15_審交易_625.txt  kaohsiung  2019/8/15       審交易       625   \n",
       "26883  高雄_2019-08-20_審交易_652.txt  kaohsiung  2019/8/20       審交易       652   \n",
       "26884    高雄_2019-08-27_交易_49.txt  kaohsiung  2019/8/27        交易        49   \n",
       "\n",
       "      judge  jail  week                                               laws  \\\n",
       "0       孫于淦     2     1  'suit_449', 'suit_454', 'crime_185-3', 'crime_...   \n",
       "1       孫于淦     3     2  'suit_449', 'suit_454', 'crime_185-3', 'crime_41'   \n",
       "2       楊國煜     2     2  'suit_449', 'suit_454', 'crime_185-3', 'crime_41'   \n",
       "3       孫于淦     5     2  'suit_449', 'suit_454', 'crime_185-3', 'crime_41'   \n",
       "4       黃俊明     5     2  'suit_449', 'suit_454', 'crime_185-3', 'crime_...   \n",
       "...     ...   ...   ...                                                ...   \n",
       "26880   詹尚晃     8    25  'suit_273-1', 'suit_299', 'crime_185-3', 'crim...   \n",
       "26881   詹尚晃    16    29  'suit_273-1', 'suit_299', 'crime_185-3', 'crim...   \n",
       "26882   詹尚晃    10    33  'suit_273-1', 'suit_299', 'crime_185-3', 'crim...   \n",
       "26883   詹尚晃     5    34  'suit_273-1', 'suit_299', 'crime_185-3', 'crim...   \n",
       "26884   胡慧滿     7    35  'suit_299', 'suit_300', 'traf_86', 'crime_2', ...   \n",
       "\n",
       "        'crime_1'  ...  shilin  taichung  tainan  taipei  taitung  taoyuan  \\\n",
       "0               0  ...       0         0       0       0        0        0   \n",
       "1               0  ...       0         0       0       0        0        0   \n",
       "2               0  ...       0         0       0       0        0        0   \n",
       "3               0  ...       0         0       0       0        0        0   \n",
       "4               0  ...       0         0       0       0        0        0   \n",
       "...           ...  ...     ...       ...     ...     ...      ...      ...   \n",
       "26880           0  ...       0         0       0       0        0        0   \n",
       "26881           0  ...       0         0       0       0        0        0   \n",
       "26882           0  ...       0         0       0       0        0        0   \n",
       "26883           0  ...       0         0       0       0        0        0   \n",
       "26884           0  ...       0         0       0       0        0        0   \n",
       "\n",
       "       yilan  yunlin  alcohol  vehicle  \n",
       "0          0       0    1.075  v_motor  \n",
       "1          0       0    0.540  v_truck  \n",
       "2          0       0    0.290    v_car  \n",
       "3          0       0    0.250  v_motor  \n",
       "4          0       0    0.430  v_motor  \n",
       "...      ...     ...      ...      ...  \n",
       "26880      0       0    0.700  v_motor  \n",
       "26881      0       0    0.660  v_motor  \n",
       "26882      0       0    0.500  v_motor  \n",
       "26883      0       0    0.590  v_motor  \n",
       "26884      0       0    0.280  v_motor  \n",
       "\n",
       "[26885 rows x 130 columns]"
      ]
     },
     "execution_count": 48,
     "metadata": {},
     "output_type": "execute_result"
    }
   ],
   "source": [
    "df.set_index(['index'],inplace = True)\n",
    "data.set_index(['index'],inplace = True)\n",
    "data2 = pd.concat([data,df],axis='columns')\n",
    "data2.reset_index(inplace=True)\n",
    "data2"
   ]
  },
  {
   "cell_type": "code",
   "execution_count": 49,
   "metadata": {},
   "outputs": [],
   "source": [
    "data2.to_csv('D:/Google雲端硬碟/NCKU/法經/法經報告/procedure/csv/data26885_6.csv',encoding='utf-8-sig',index=False)\n",
    "data2.to_csv('D:/Google雲端硬碟/NCKU/法經/備份檔案/data26885_6.csv',encoding='utf-8-sig',index=False)"
   ]
  }
 ],
 "metadata": {
  "kernelspec": {
   "display_name": "Python 3",
   "language": "python",
   "name": "python3"
  },
  "language_info": {
   "codemirror_mode": {
    "name": "ipython",
    "version": 3
   },
   "file_extension": ".py",
   "mimetype": "text/x-python",
   "name": "python",
   "nbconvert_exporter": "python",
   "pygments_lexer": "ipython3",
   "version": "3.7.6"
  }
 },
 "nbformat": 4,
 "nbformat_minor": 4
}
